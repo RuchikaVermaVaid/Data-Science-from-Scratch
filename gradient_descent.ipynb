{
 "cells": [
  {
   "cell_type": "code",
   "execution_count": 149,
   "metadata": {},
   "outputs": [],
   "source": [
    "from typing import List\n",
    "import random\n",
    "from Vector_operations_on_data import distance,add,scalar_multiply,vector_mean #Importing functions from the previous code\n",
    "from typing import Callable\n",
    "\n",
    "Vector = List[float]"
   ]
  },
  {
   "cell_type": "code",
   "execution_count": 150,
   "metadata": {},
   "outputs": [],
   "source": [
    "\"\"\"\n",
    "##########################################################################################################\n",
    "##########################    Calling function if f is a function of one variable   ######################\n",
    "##########################################################################################################\n",
    "\"\"\"\n",
    "# Callable function : square\n",
    "def square(x:float) -> float:\n",
    "    return x*x\n",
    "\n",
    "# Derivative of a square function\n",
    "def derivative(x:float) -> float:\n",
    "    return 2*x\n",
    "\n",
    "# Estimating solution of a derivative function\n",
    "def difference_quotient(f: Callable[[float],float], x: float,h: float)-> float:\n",
    "    return (f(x+h) -f(x))/h"
   ]
  },
  {
   "cell_type": "code",
   "execution_count": 151,
   "metadata": {},
   "outputs": [
    {
     "name": "stdout",
     "output_type": "stream",
     "text": [
      "[-10, -9, -8, -7, -6, -5, -4, -3, -2, -1, 0, 1, 2, 3, 4, 5, 6, 7, 8, 9, 10]\n",
      "[-20, -18, -16, -14, -12, -10, -8, -6, -4, -2, 0, 2, 4, 6, 8, 10, 12, 14, 16, 18, 20]\n",
      "[-19.998999999984335, -17.998999999988996, -15.999000000007868, -13.999000000005424, -11.99900000000298, -9.999000000004088, -7.998999999999867, -5.998999999999199, -3.9989999999994197, -1.998999999999973, 0.001, 2.0009999999996975, 4.000999999999699, 6.000999999999479, 8.0010000000037, 10.001000000002591, 12.001000000005035, 14.00100000000748, 16.000999999988608, 18.000999999983947, 20.000999999993496]\n"
     ]
    }
   ],
   "source": [
    "xs = [x for x in range(-10,11)]\n",
    "actuals = [derivative(x) for x in xs] # Get actual values in xs using derivative function\n",
    "print(xs)\n",
    "print(actuals)\n",
    "\n",
    "# Get estimates of the derivative function using difference_quotient\n",
    "estimates = [difference_quotient(square, x,h = 0.001) for x in xs]\n",
    "print(estimates)"
   ]
  },
  {
   "cell_type": "code",
   "execution_count": 152,
   "metadata": {},
   "outputs": [
    {
     "data": {
      "image/png": "[encoded data removed]",
      "text/plain": [
       "<Figure size 432x288 with 1 Axes>"
      ]
     },
     "metadata": {
      "needs_background": "light"
     },
     "output_type": "display_data"
    }
   ],
   "source": [
    "#Plotting to see if actual derivative values of a square function matches with the estimated values\n",
    "import matplotlib.pyplot as plt\n",
    "plt.title(\" Actual derivatives vs. Estimates\")\n",
    "plt.plot(xs,actuals,'rx',label = 'Actual')\n",
    "plt.plot(xs,estimates,'b+',label = 'Estimate')\n",
    "plt.legend(loc = 9)\n",
    "plt.show()"
   ]
  },
  {
   "cell_type": "code",
   "execution_count": 153,
   "metadata": {},
   "outputs": [],
   "source": [
    "\"\"\"\n",
    "##########################################################################################################\n",
    "##########################    Calling function if f is a function of many variables ######################\n",
    "##########################################################################################################\n",
    "\"\"\"\n",
    "# Partial derivatives, f is a function of many variables\n",
    "def partial_difference_quotient(f: Callable[[Vector],float],v:Vector, i:int,h:float)-> float:\n",
    "    #Returns the ith partial difference quotient of f at v\n",
    "    w = [v_j + (h if j ==i else 0) \n",
    "        for j,v_j in enumerate(v)]\n",
    "    \n",
    "    return (f(w)-f(v))/h"
   ]
  },
  {
   "cell_type": "code",
   "execution_count": 154,
   "metadata": {},
   "outputs": [],
   "source": [
    "def estimate_gradient(f: Callable[[Vector],float],v:Vector,h:float = 0.0001)-> float:\n",
    "    return [partial_difference_quotient(f,v,i,h)\n",
    "           for i in range(len(v))]"
   ]
  },
  {
   "cell_type": "code",
   "execution_count": 155,
   "metadata": {},
   "outputs": [],
   "source": [
    "def gradient_step (v:Vector, gradient:Vector,step_size:float) -> Vector:\n",
    "    assert len(v) == len(gradient)\n",
    "    step = scalar_multiply(step_size,gradient)\n",
    "    return add(v,step)"
   ]
  },
  {
   "cell_type": "code",
   "execution_count": 156,
   "metadata": {},
   "outputs": [],
   "source": [
    "def sum_of_squares_gradient(v:Vector)-> Vector:\n",
    "    return [2*v_i for v_i in v]"
   ]
  },
  {
   "cell_type": "code",
   "execution_count": 157,
   "metadata": {},
   "outputs": [
    {
     "name": "stdout",
     "output_type": "stream",
     "text": [
      "0 [1.166334200246083, 1.3875788778188547, 2.8171214624252365]\n",
      "1 [1.1430075162411613, 1.3598273002624777, 2.760779033176732]\n",
      "2 [1.1201473659163381, 1.3326307542572282, 2.7055634525131973]\n",
      "3 [1.0977444185980114, 1.3059781391720837, 2.651452183462933]\n",
      "4 [1.0757895302260512, 1.279858576388642, 2.5984231397936743]\n",
      "5 [1.05427373962153, 1.2542614048608693, 2.5464546769978007]\n",
      "6 [1.0331882648290995, 1.229176176763652, 2.4955255834578445]\n",
      "7 [1.0125244995325176, 1.204592653228379, 2.4456150717886875]\n",
      "8 [0.9922740095418672, 1.1805008001638115, 2.396702770352914]\n",
      "9 [0.9724285293510299, 1.1568907841605354, 2.3487687149458556]\n",
      "10 [0.9529799587640093, 1.1337529684773247, 2.3017933406469386]\n",
      "989 [2.4513869536651658e-09, 2.916396310378981e-09, 5.920991426318714e-09]\n",
      "990 [2.4023592145918623e-09, 2.858068384171401e-09, 5.80257159779234e-09]\n",
      "991 [2.354312030300025e-09, 2.800907016487973e-09, 5.6865201658364936e-09]\n",
      "992 [2.3072257896940244e-09, 2.7448888761582134e-09, 5.572789762519764e-09]\n",
      "993 [2.261081273900144e-09, 2.689991098635049e-09, 5.461333967269369e-09]\n",
      "994 [2.215859648422141e-09, 2.6361912766623482e-09, 5.352107287923981e-09]\n",
      "995 [2.1715424554536982e-09, 2.583467451129101e-09, 5.245065142165501e-09]\n",
      "996 [2.1281116063446243e-09, 2.531798102106519e-09, 5.140163839322191e-09]\n",
      "997 [2.085549374217732e-09, 2.4811621400643887e-09, 5.0373605625357475e-09]\n",
      "998 [2.0438383867333772e-09, 2.431538897263101e-09, 4.936613351285032e-09]\n",
      "999 [2.0029616189987095e-09, 2.382908119317839e-09, 4.837881084259331e-09]\n"
     ]
    }
   ],
   "source": [
    "# Pick a random starting point to find minimum in a 3D vector\n",
    "# Take tiny steps in the opposite of gradient until we reach a point where gradient is very small\n",
    "v = [random.uniform(-10,10) for i in range(3)]\n",
    "\n",
    "for epoch in range(1000):\n",
    "    grad = sum_of_squares_gradient(v)\n",
    "    v = gradient_step(v,grad,-0.01)\n",
    "    print(epoch,v)\n",
    "    \n",
    "assert distance(v,[0,0,0])<0.001 # v should be close to 0"
   ]
  },
  {
   "cell_type": "code",
   "execution_count": 158,
   "metadata": {},
   "outputs": [
    {
     "name": "stdout",
     "output_type": "stream",
     "text": [
      "[(-50, -995), (-49, -975), (-48, -955), (-47, -935), (-46, -915), (-45, -895), (-44, -875), (-43, -855), (-42, -835), (-41, -815), (-40, -795), (-39, -775), (-38, -755), (-37, -735), (-36, -715), (-35, -695), (-34, -675), (-33, -655), (-32, -635), (-31, -615), (-30, -595), (-29, -575), (-28, -555), (-27, -535), (-26, -515), (-25, -495), (-24, -475), (-23, -455), (-22, -435), (-21, -415), (-20, -395), (-19, -375), (-18, -355), (-17, -335), (-16, -315), (-15, -295), (-14, -275), (-13, -255), (-12, -235), (-11, -215), (-10, -195), (-9, -175), (-8, -155), (-7, -135), (-6, -115), (-5, -95), (-4, -75), (-3, -55), (-2, -35), (-1, -15), (0, 5), (1, 25), (2, 45), (3, 65), (4, 85), (5, 105), (6, 125), (7, 145), (8, 165), (9, 185), (10, 205), (11, 225), (12, 245), (13, 265), (14, 285), (15, 305), (16, 325), (17, 345), (18, 365), (19, 385), (20, 405), (21, 425), (22, 445), (23, 465), (24, 485), (25, 505), (26, 525), (27, 545), (28, 565), (29, 585), (30, 605), (31, 625), (32, 645), (33, 665), (34, 685), (35, 705), (36, 725), (37, 745), (38, 765), (39, 785), (40, 805), (41, 825), (42, 845), (43, 865), (44, 885), (45, 905), (46, 925), (47, 945), (48, 965), (49, 985)]\n"
     ]
    }
   ],
   "source": [
    "\"\"\"\n",
    "##########################################################################################################\n",
    "##########################            Use gradient descent to fit models            ######################\n",
    "##########################                   Batch gradient descent                  ######################\n",
    "##########################################################################################################\n",
    "\"\"\"\n",
    "# x ranges from -50 to 49, y is always 20*x+5\n",
    "inputs = [(x,20*x+5) for x in range(-50,50)]\n",
    "print(inputs)"
   ]
  },
  {
   "cell_type": "code",
   "execution_count": 159,
   "metadata": {},
   "outputs": [],
   "source": [
    "def linear_gradient(x:float,y:float,theta:Vector)-> Vector:\n",
    "    slope,intercept = theta\n",
    "    predicted = slope*x+intercept # The prediction of the model\n",
    "    error = (predicted - y) #error is predicted - actual\n",
    "    squared_error = error**2 #Minime the squared error\n",
    "    grad = [2*error*x,2*error]\n",
    "    return grad"
   ]
  },
  {
   "cell_type": "code",
   "execution_count": 160,
   "metadata": {},
   "outputs": [
    {
     "data": {
      "text/plain": [
       "[-0.4215732004032178, -0.5297549553127789]"
      ]
     },
     "execution_count": 160,
     "metadata": {},
     "output_type": "execute_result"
    }
   ],
   "source": [
    "# Start with random values for slope and intercept\n",
    "theta = [random.uniform(-1,1), random.uniform(-1,1)]\n",
    "theta"
   ]
  },
  {
   "cell_type": "code",
   "execution_count": 161,
   "metadata": {},
   "outputs": [
    {
     "name": "stdout",
     "output_type": "stream",
     "text": [
      "0 [33.61565956971364, -0.5391170186025565]\n",
      "1 [10.912815949982392, -0.5144231249956376]\n",
      "2 [26.05563733823675, -0.5124814627956639]\n",
      "3 [15.955377413933293, -0.4954008625318358]\n",
      "4 [22.692267864043963, -0.4884546833928388]\n",
      "5 [18.198768879999285, -0.47478550616200915]\n",
      "6 [21.195946371534315, -0.4656371662696859]\n",
      "7 [19.196838133020343, -0.45350994556561225]\n",
      "8 [20.530255455329865, -0.44340608754146066]\n",
      "9 [19.640876205207437, -0.4319890199110479]\n",
      "10 [20.234103582106727, -0.4214841656660184]\n",
      "4991 [19.999999847517373, 4.999746116334068]\n",
      "4992 [19.999999847822245, 4.999746623948917]\n",
      "4993 [19.99999984812651, 4.999747130548841]\n",
      "4994 [19.999999848430168, 4.99974763613587]\n",
      "4995 [19.999999848733214, 4.999748140712029]\n",
      "4996 [19.999999849035657, 4.999748644279338]\n",
      "4997 [19.999999849337495, 4.9997491468398145]\n",
      "4998 [19.99999984963873, 4.999749648395472]\n",
      "4999 [19.999999849939364, 4.99975014894832]\n"
     ]
    }
   ],
   "source": [
    "learning_rate = 0.001\n",
    "for epoch in range(5000):\n",
    "    #Compute the mean of the gradients\n",
    "    grad = vector_mean([linear_gradient(x,y,theta) for x,y in inputs])\n",
    "    # Take a step in that direction\n",
    "    theta = gradient_step(theta, grad,-learning_rate)\n",
    "    print(epoch, theta)\n",
    "    \n",
    "slope, intercept = theta\n",
    "assert 19.9 < slope < 20.1 # Slope should be around 20\n",
    "assert 4.9 < intercept < 5.1 # Intercept should be around 5\n"
   ]
  },
  {
   "cell_type": "code",
   "execution_count": 89,
   "metadata": {},
   "outputs": [],
   "source": [
    "\"\"\"\n",
    "##########################################################################################################\n",
    "################# Split data into mini-batches and use gradient descent to fit models ####################\n",
    "##########################################################################################################\n",
    "\"\"\"\n",
    "\n",
    "from typing import TypeVar, List, Iterator\n",
    "T = TypeVar('T')\n",
    "\n",
    "def minibatches(dataset:List[T],\n",
    "               batch_size = int,\n",
    "               shuffle:bool = True) -> Iterator[List[T]]:\n",
    "    # Generate minibatches of batchsize from the datset\n",
    "    #Index starts from 0\n",
    "    batch_starts = [start for start in range(0, len(dataset), batch_size)]\n",
    "\n",
    "    \n",
    "    if shuffle:random.shuffle(batch_starts) #Shuffle the batches\n",
    "    \n",
    "    for start in batch_starts:\n",
    "        end = start+batch_size\n",
    "        yield dataset[start:end]\n",
    "        \n",
    "        "
   ]
  },
  {
   "cell_type": "code",
   "execution_count": 90,
   "metadata": {},
   "outputs": [
    {
     "name": "stdout",
     "output_type": "stream",
     "text": [
      "0 [18.517363091241375, 1.7808560846726924]\n",
      "1 [19.699215613372097, 1.7732172258020102]\n",
      "2 [19.826391913707262, 1.7980870181560493]\n",
      "3 [19.48892269786346, 1.8800017146711103]\n",
      "4 [20.04733763448632, 1.9420861785308678]\n",
      "5 [20.007296853146265, 2.0827023199173986]\n",
      "6 [18.672826497211233, 2.1625850862728107]\n",
      "7 [19.623924592910804, 2.1459358736419345]\n",
      "8 [19.96905351118571, 2.2569009292039874]\n",
      "9 [20.09316990959831, 2.292167887918438]\n",
      "10 [20.110381781360438, 2.3024839443778062]\n",
      "990 [19.999999759400822, 4.999997598267602]\n",
      "991 [19.99999962804993, 4.999997677823221]\n",
      "992 [19.999999883415278, 4.9999978945921]\n",
      "993 [20.00000013806604, 4.999997903377837]\n",
      "994 [19.99999988532921, 4.999997910890041]\n",
      "995 [20.000000063432054, 4.9999979561903745]\n",
      "996 [19.999999515488472, 4.999997983223836]\n",
      "997 [19.99999998365643, 4.999997997537947]\n",
      "998 [20.00000001870291, 4.999998009899814]\n",
      "999 [20.000000097181715, 4.999998018242733]\n"
     ]
    }
   ],
   "source": [
    "theta = [random.uniform(-1,1), random.uniform(-1,1)]\n",
    "\n",
    "for epoch in range(1000):\n",
    "    for batch in minibatches(inputs, batch_size = 20):\n",
    "        grad = vector_mean([linear_gradient(x,y,theta) for x,y in batch])\n",
    "        theta = gradient_step(theta, grad, -learning_rate)\n",
    "    print (epoch,theta)\n",
    "    \n",
    "slope, intercept = theta\n",
    "assert 19.9 < slope < 20.1 # Slope should be around 20\n",
    "assert 4.9 < intercept < 5.1 # Intercept should be around 5\n"
   ]
  },
  {
   "cell_type": "code",
   "execution_count": 162,
   "metadata": {},
   "outputs": [
    {
     "name": "stdout",
     "output_type": "stream",
     "text": [
      "0 [20.102302671939782, -0.09181704665302065]\n",
      "1 [20.09791283387859, 0.12664107806112238]\n",
      "2 [20.09371200518361, 0.33572651405147924]\n",
      "3 [20.089691391575222, 0.535841397726443]\n",
      "4 [20.08584330286927, 0.7273705997826726]\n",
      "5 [20.082160308586428, 0.910682478672682]\n",
      "6 [20.078635328405888, 1.0861295884243798]\n",
      "7 [20.07526155745144, 1.254049356687741]\n",
      "8 [20.072032565816414, 1.4147647349173262]\n",
      "9 [20.06894209317885, 1.568584818791328]\n",
      "10 [20.06598421945285, 1.7158054422036888]\n",
      "990 [20.000000002709324, 5.000000000324199]\n",
      "991 [20.000000002326704, 5.000000000408773]\n",
      "992 [20.00000001005339, 5.000000000639604]\n",
      "993 [20.00000000019266, 5.000000000805643]\n",
      "994 [19.99999999263345, 5.000000000625624]\n",
      "995 [19.999999986186552, 5.000000000180019]\n",
      "996 [19.99999999802444, 4.999999999872501]\n",
      "997 [19.999999993008544, 4.999999999698645]\n",
      "998 [19.999999991369503, 4.99999999940447]\n",
      "999 [20.000000003838124, 4.9999999993452455]\n"
     ]
    }
   ],
   "source": [
    "\"\"\"\n",
    "##########################################################################################################\n",
    "####    Use Stochastic gradient descent in which you take gradient steps based on one training example ###\n",
    "##########################################################################################################\n",
    "\"\"\"\n",
    "\n",
    "theta = [random.uniform(-1,1), random.uniform(-1,1)]\n",
    "\n",
    "for epoch in range(1000):\n",
    "    for x,y in inputs:\n",
    "        grad = linear_gradient(x,y,theta)\n",
    "        theta = gradient_step(theta, grad, -learning_rate)\n",
    "    print (epoch,theta)\n",
    "    \n",
    "slope, intercept = theta\n",
    "assert 19.9 < slope < 20.1 # Slope should be around 20\n",
    "assert 4.9 < intercept < 5.1 # Intercept should be around 5"
   ]
  },
  {
   "cell_type": "code",
   "execution_count": null,
   "metadata": {},
   "outputs": [],
   "source": []
  }
 ],
 "metadata": {
  "kernelspec": {
   "display_name": "Python 3",
   "language": "python",
   "name": "python3"
  },
  "language_info": {
   "codemirror_mode": {
    "name": "ipython",
    "version": 3
   },
   "file_extension": ".py",
   "mimetype": "text/x-python",
   "name": "python",
   "nbconvert_exporter": "python",
   "pygments_lexer": "ipython3",
   "version": "3.7.0"
  }
 },
 "nbformat": 4,
 "nbformat_minor": 2
}
