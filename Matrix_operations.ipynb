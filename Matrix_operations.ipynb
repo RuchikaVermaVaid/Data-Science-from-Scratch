{
 "cells": [
  {
   "cell_type": "code",
   "execution_count": 14,
   "metadata": {},
   "outputs": [],
   "source": [
    "# -*- coding: utf-8 -*-\n",
    "\"\"\"\n",
    "Created on Tue Jun 25 16:08:27 2019\n",
    "\n",
    "@author: Ruchika\n",
    "\"\"\"\n",
    "#Represent data as Matrices\n",
    "\n",
    "from typing import Tuple\n",
    "import numpy as np\n",
    "from typing import List\n",
    "\n",
    "#List of numbers as vectors\n",
    "Vector = List[float]\n",
    "\n",
    "Matrix = List[List[float]]\n",
    "A=[[1,2,3],[4,5,6]]\n",
    "B = [[1,2],[3,4],[5,6]]\n"
   ]
  },
  {
   "cell_type": "code",
   "execution_count": 15,
   "metadata": {},
   "outputs": [
    {
     "name": "stdout",
     "output_type": "stream",
     "text": [
      "(2, 3)\n"
     ]
    }
   ],
   "source": [
    "######################################################################################\n",
    "################# find shape of a matrix without using default function ##############\n",
    "######################################################################################\n",
    "\n",
    "def shape(A:Matrix) -> Tuple[int,int]:\n",
    "    #returns # of rows of A, # of columns of A\n",
    "    num_rows = len(A)\n",
    "    num_cols = len(A[0]) if A else 0 #Number of elements in first row\n",
    "    return num_rows, num_cols\n",
    "\n",
    "#Call function\n",
    "print(shape([[1,2,3],[4,5,6]])) # 2 rows, 3 columns"
   ]
  },
  {
   "cell_type": "code",
   "execution_count": 16,
   "metadata": {},
   "outputs": [
    {
     "name": "stdout",
     "output_type": "stream",
     "text": [
      "[4, 5, 6]\n"
     ]
    }
   ],
   "source": [
    "######################################################################################\n",
    "############################## Get a particular row of a matrix ######################\n",
    "######################################################################################\n",
    "\n",
    "def get_row(A:Matrix,i:int)-> Vector:\n",
    "    #Returns the ith row of A (as a Vector)\n",
    "    return A[i]\n",
    " \n",
    "#Call function\n",
    "print(get_row(A,1))  "
   ]
  },
  {
   "cell_type": "code",
   "execution_count": 17,
   "metadata": {},
   "outputs": [
    {
     "name": "stdout",
     "output_type": "stream",
     "text": [
      "[2, 5]\n"
     ]
    }
   ],
   "source": [
    "######################################################################################\n",
    "####################### Extract a particular column of a matrix ######################\n",
    "######################################################################################\n",
    "\n",
    "def get_column(A:Matrix,j:int)-> Vector:\n",
    "    #Returns the ith row of A (as a Vector)\n",
    "    return [A_i[j]\n",
    "           for A_i in A]#For each row A_i\n",
    "\n",
    "#Call function\n",
    "print(get_column(A,1))"
   ]
  },
  {
   "cell_type": "code",
   "execution_count": 18,
   "metadata": {},
   "outputs": [
    {
     "name": "stdout",
     "output_type": "stream",
     "text": [
      "[[0 0 0 0 0]\n",
      " [0 0 0 0 0]\n",
      " [0 0 0 0 0]\n",
      " [0 0 0 0 0]\n",
      " [0 0 0 0 0]]\n"
     ]
    }
   ],
   "source": [
    "######################################################################################\n",
    "######### Make a matrix with user input num_rows and num_cols with ###################\n",
    "#######################  condition defined in the entry_fn ###########################\n",
    "######################################################################################\n",
    "\n",
    "from typing import Callable\n",
    "    \n",
    "def make_matrix(num_rows: int,\n",
    "                num_cols: int,\n",
    "                entry_fn: Callable[[int,int], float]) -> Matrix:\n",
    "    # Returns a num_rows * num_cols matrix\n",
    "    # whose (i,j)th entry is entry_fn(i,j)\n",
    "    return [[entry_fn(i,j) \n",
    "             for j in range(num_cols)]\n",
    "           for i in range(num_rows)]\n",
    "\n",
    "n = 5        \n",
    "zero_matrix = np.array(make_matrix(n,n, lambda i, j: 0))\n",
    "#Call function\n",
    "print(zero_matrix)"
   ]
  },
  {
   "cell_type": "code",
   "execution_count": 19,
   "metadata": {},
   "outputs": [],
   "source": [
    "######################################################################################\n",
    "######### Create an identity matrix using make_matrix function ### ###################\n",
    "######################################################################################\n",
    "      \n",
    "def identity_matrix(n:int)-> Matrix:\n",
    "    \"Returns n*n identity matri\"\n",
    "    return make_matrix(n,n, lambda i, j: 1 if i == j else 0)\n"
   ]
  },
  {
   "cell_type": "code",
   "execution_count": 20,
   "metadata": {},
   "outputs": [
    {
     "data": {
      "text/plain": [
       "[[1, 0, 0, 0, 0],\n",
       " [0, 1, 0, 0, 0],\n",
       " [0, 0, 1, 0, 0],\n",
       " [0, 0, 0, 1, 0],\n",
       " [0, 0, 0, 0, 1]]"
      ]
     },
     "execution_count": 20,
     "metadata": {},
     "output_type": "execute_result"
    }
   ],
   "source": [
    "#Call function\n",
    "identity_matrix(5)"
   ]
  },
  {
   "cell_type": "code",
   "execution_count": 21,
   "metadata": {},
   "outputs": [
    {
     "name": "stdout",
     "output_type": "stream",
     "text": [
      "[[0 1 1 0 0 0 0 0 1]\n",
      " [1 0 1 0 0 0 0 0 1]\n",
      " [1 1 0 1 0 0 0 0 0]\n",
      " [0 0 1 0 1 0 0 0 0]\n",
      " [0 0 0 1 0 1 1 0 0]\n",
      " [0 0 0 0 1 0 0 1 0]\n",
      " [0 0 0 0 1 0 0 1 0]\n",
      " [0 0 0 0 0 1 1 0 1]\n",
      " [1 1 0 0 0 0 0 1 0]]\n"
     ]
    }
   ],
   "source": [
    "######################################################################################\n",
    "###############        Create a friendship matrix when indices  ######################\n",
    "###############    of friendship pairs are available in friendships ##################\n",
    "######################################################################################\n",
    "import numpy as np\n",
    "friendships = [(0,1),(0,2),(1,2),(1,3),(2,3),(3,4),(4,5),(5,6),(5,7),(6,8),(7,8),(8,9)]\n",
    "n = max(max(friendships))\n",
    "frienship_matrix = np.array(make_matrix(n,n, lambda i, j: 0))\n",
    "for i,j in friendships:\n",
    "    frienship_matrix[i-1,j-1] = 1\n",
    "    frienship_matrix[j-1,i-1] = 1\n",
    "\n",
    "print(frienship_matrix)        \n",
    "        "
   ]
  }
 ],
 "metadata": {
  "kernelspec": {
   "display_name": "Python 3",
   "language": "python",
   "name": "python3"
  },
  "language_info": {
   "codemirror_mode": {
    "name": "ipython",
    "version": 3
   },
   "file_extension": ".py",
   "mimetype": "text/x-python",
   "name": "python",
   "nbconvert_exporter": "python",
   "pygments_lexer": "ipython3",
   "version": "3.7.0"
  }
 },
 "nbformat": 4,
 "nbformat_minor": 2
}
