{
 "cells": [
  {
   "cell_type": "code",
   "execution_count": 19,
   "metadata": {},
   "outputs": [],
   "source": [
    "\"\"\"\n",
    "Created on Fri May 31, 2019\n",
    "@author: Ruchika\n",
    "\"\"\"\n",
    "\n",
    "\"\"\"\n",
    "######################################################################################################################\n",
    "CountingClicker can be used to count or track how many people have shown up for a class. Everybody will \n",
    "press a button (click function) and at the end, read function can be used to see the total number of \n",
    "students/people attended the class. \n",
    "There is a subclass NoResetClicker and it will be used by students who entered the class and reset \n",
    "button/function doesn't work for it so that students can't reset the counter. However, Professor can \n",
    "reset the counter using the reset function of the class CountingClicker.\n",
    "######################################################################################################################    \n",
    "\"\"\"\n",
    "\n",
    "# Count how many times a button was pressed\n",
    "class CountingClicker:    \n",
    "    \n",
    "    def __init__ (self,count = 0):\n",
    "        self.count = count\n",
    "        \n",
    "    def __repr__(self):\n",
    "        return f\"CountingClicker (count = {self.count})\" \n",
    "    \n",
    "    def click(self, num_times = 1):\n",
    "        #Click the clicker for a few times\n",
    "        self.count += num_times\n",
    "        return self.count\n",
    "        \n",
    "    def read(self):\n",
    "        return self.count\n",
    "    \n",
    "    def reset(self):\n",
    "        self.count = 0\n",
    "        return self.count"
   ]
  },
  {
   "cell_type": "code",
   "execution_count": 20,
   "metadata": {},
   "outputs": [
    {
     "name": "stdout",
     "output_type": "stream",
     "text": [
      "CountingClicker (count = 0)\n",
      "CountingClicker (count = 100)\n",
      "CountingClicker (count = 100)\n",
      "101\n",
      "101\n",
      "0\n",
      "1\n"
     ]
    }
   ],
   "source": [
    "# Create an instance of the class CountingClicker\n",
    "clicker1 = CountingClicker()\n",
    "print(clicker1)\n",
    "\n",
    "# Create another instance of the class CountingClicker starting with number of counts = 100\n",
    "clicker2 = CountingClicker(100)\n",
    "print(clicker2)\n",
    "\n",
    "#Other way to assign value for clicker2\n",
    "clicker2 = CountingClicker(count = 100)\n",
    "\n",
    "print(clicker2)\n",
    "print(clicker2.click()) #Click one more time and print number of counts\n",
    "print(clicker2.read()) #Read current number of counts\n",
    "print(clicker2.reset()) #Print number of counts after resetting the CountingClicker \n",
    "print(clicker2.click()) #Click and print number of counts"
   ]
  },
  {
   "cell_type": "code",
   "execution_count": 21,
   "metadata": {},
   "outputs": [],
   "source": [
    "\"\"\"\n",
    "##############################################################################################################\n",
    "Subclass can be used for the students in the attendance system so that they can't reset the CountingClicker\n",
    "##############################################################################################################\n",
    "\"\"\"\n",
    "\n",
    "# A subclass inherits the behavior of its parent class\n",
    "class NoResetClicker(CountingClicker):\n",
    "    #This class works same as CountingClicker except the reset function\n",
    "    def reset(self):\n",
    "        pass"
   ]
  },
  {
   "cell_type": "code",
   "execution_count": 22,
   "metadata": {},
   "outputs": [
    {
     "name": "stdout",
     "output_type": "stream",
     "text": [
      "CountingClicker (count = 0)\n",
      "CountingClicker (count = 100)\n",
      "CountingClicker (count = 100)\n",
      "101\n",
      "101\n",
      "None\n",
      "102\n"
     ]
    }
   ],
   "source": [
    "# Create an instance of the class CountingClicker\n",
    "clicker1 = NoResetClicker()\n",
    "print(clicker1)\n",
    "\n",
    "# Create another instance of the class CountingClicker starting with number of counts = 100\n",
    "clicker2 = NoResetClicker(100)\n",
    "print(clicker2)\n",
    "\n",
    "#Other way to assign value for clicker2\n",
    "clicker2 = NoResetClicker(count = 100)\n",
    "\n",
    "print(clicker2)\n",
    "print(clicker2.click()) #Click one more time and print number of counts\n",
    "print(clicker2.read()) #Read current number of counts\n",
    "print(clicker2.reset()) #Print number of counts after resetting the CountingClicker \n",
    "print(clicker2.click()) #Click and print number of counts"
   ]
  }
 ],
 "metadata": {
  "kernelspec": {
   "display_name": "Python 3",
   "language": "python",
   "name": "python3"
  },
  "language_info": {
   "codemirror_mode": {
    "name": "ipython",
    "version": 3
   },
   "file_extension": ".py",
   "mimetype": "text/x-python",
   "name": "python",
   "nbconvert_exporter": "python",
   "pygments_lexer": "ipython3",
   "version": "3.7.0"
  }
 },
 "nbformat": 4,
 "nbformat_minor": 2
}
