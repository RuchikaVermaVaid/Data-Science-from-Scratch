{
 "cells": [
  {
   "cell_type": "code",
   "execution_count": 37,
   "metadata": {},
   "outputs": [
    {
     "name": "stdout",
     "output_type": "stream",
     "text": [
      "Winner of raw_majority_vote(['a','b','c','b']) is  b\n"
     ]
    }
   ],
   "source": [
    "from typing import List\n",
    "from collections import Counter\n",
    "\n",
    "def raw_majority_vote(labels: List[str]) -> str:\n",
    "    votes = Counter(labels)\n",
    "    winner, _ = votes.most_common(1)[0]\n",
    "    return winner\n",
    "\n",
    "\n",
    "print(\"Winner of raw_majority_vote(['a','b','c','b']) is \", raw_majority_vote(['a','b','c','b']))"
   ]
  },
  {
   "cell_type": "code",
   "execution_count": 38,
   "metadata": {},
   "outputs": [
    {
     "name": "stdout",
     "output_type": "stream",
     "text": [
      "Winner of majority_vote(['a','b','c','b','a']) is  b\n"
     ]
    }
   ],
   "source": [
    "def majority_vote(labels: List[str]) -> str:\n",
    "    # Assume labels are ordered from nearest to farthest\n",
    "    vote_counts = Counter(labels)\n",
    "    winner, winner_count =  vote_counts.most_common(1)[0]\n",
    "    \n",
    "    num_winners = len([count\n",
    "                       for count in vote_counts.values()\n",
    "                       if count == winner_count])\n",
    "    if num_winners == 1:\n",
    "        return winner  #if unique winner then return\n",
    "    else:\n",
    "        return majority_vote(labels[:-1]) #try again without the farthest\n",
    "    \n",
    "\n",
    "print(\"Winner of majority_vote(['a','b','c','b','a']) is \", majority_vote(['a','b','c','b','a']))    "
   ]
  },
  {
   "cell_type": "code",
   "execution_count": 53,
   "metadata": {},
   "outputs": [],
   "source": [
    "from typing import NamedTuple\n",
    "from Vector_operations_on_data import Vector, distance\n",
    "\n",
    "class LabeledPoint (NamedTuple):\n",
    "    point: Vector\n",
    "    label: str\n",
    "      \n",
    "def knn_classify(k: int,\n",
    "                 labeled_points: List[Vector],\n",
    "                 new_point: Vector) -> str:\n",
    "    \n",
    "    # Order the labeled points from nearest to farthest    \n",
    "    by_distance = sorted(labeled_points,\n",
    "                         key=lambda lp: distance(lp.point, new_point))\n",
    "    \n",
    "    # Find the labels for the k closest\n",
    "    k_nearest_labels = [lp.label for lp in by_distance[:k]]\n",
    "    \n",
    "    # Let them vote\n",
    "    return majority_vote(k_nearest_labels)\n",
    "\n",
    "        "
   ]
  },
  {
   "cell_type": "code",
   "execution_count": 54,
   "metadata": {},
   "outputs": [
    {
     "data": {
      "text/plain": [
       "'5.1,3.5,1.4,0.2,Iris-setosa\\n4.9,3.0,1.4,0.2,Iris-setosa\\n4.7,3.2,1.3,0.2,Iris-setosa\\n4.6,3.1,1.5,0.2,Iris-setosa\\n5.0,3.6,1.4,0.2,Iris-setosa\\n5.4,3.9,1.7,0.4,Iris-setosa\\n4.6,3.4,1.4,0.3,Iris-setosa\\n5.0,3.4,1.5,0.2,Iris-setosa\\n4.4,2.9,1.4,0.2,Iris-setosa\\n4.9,3.1,1.5,0.1,Iris-setosa\\n5.4,3.7,1.5,0.2,Iris-setosa\\n4.8,3.4,1.6,0.2,Iris-setosa\\n4.8,3.0,1.4,0.1,Iris-setosa\\n4.3,3.0,1.1,0.1,Iris-setosa\\n5.8,4.0,1.2,0.2,Iris-setosa\\n5.7,4.4,1.5,0.4,Iris-setosa\\n5.4,3.9,1.3,0.4,Iris-setosa\\n5.1,3.5,1.4,0.3,Iris-setosa\\n5.7,3.8,1.7,0.3,Iris-setosa\\n5.1,3.8,1.5,0.3,Iris-setosa\\n5.4,3.4,1.7,0.2,Iris-setosa\\n5.1,3.7,1.5,0.4,Iris-setosa\\n4.6,3.6,1.0,0.2,Iris-setosa\\n5.1,3.3,1.7,0.5,Iris-setosa\\n4.8,3.4,1.9,0.2,Iris-setosa\\n5.0,3.0,1.6,0.2,Iris-setosa\\n5.0,3.4,1.6,0.4,Iris-setosa\\n5.2,3.5,1.5,0.2,Iris-setosa\\n5.2,3.4,1.4,0.2,Iris-setosa\\n4.7,3.2,1.6,0.2,Iris-setosa\\n4.8,3.1,1.6,0.2,Iris-setosa\\n5.4,3.4,1.5,0.4,Iris-setosa\\n5.2,4.1,1.5,0.1,Iris-setosa\\n5.5,4.2,1.4,0.2,Iris-setosa\\n4.9,3.1,1.5,0.1,Iris-setosa\\n5.0,3.2,1.2,0.2,Iris-setosa\\n5.5,3.5,1.3,0.2,Iris-setosa\\n4.9,3.1,1.5,0.1,Iris-setosa\\n4.4,3.0,1.3,0.2,Iris-setosa\\n5.1,3.4,1.5,0.2,Iris-setosa\\n5.0,3.5,1.3,0.3,Iris-setosa\\n4.5,2.3,1.3,0.3,Iris-setosa\\n4.4,3.2,1.3,0.2,Iris-setosa\\n5.0,3.5,1.6,0.6,Iris-setosa\\n5.1,3.8,1.9,0.4,Iris-setosa\\n4.8,3.0,1.4,0.3,Iris-setosa\\n5.1,3.8,1.6,0.2,Iris-setosa\\n4.6,3.2,1.4,0.2,Iris-setosa\\n5.3,3.7,1.5,0.2,Iris-setosa\\n5.0,3.3,1.4,0.2,Iris-setosa\\n7.0,3.2,4.7,1.4,Iris-versicolor\\n6.4,3.2,4.5,1.5,Iris-versicolor\\n6.9,3.1,4.9,1.5,Iris-versicolor\\n5.5,2.3,4.0,1.3,Iris-versicolor\\n6.5,2.8,4.6,1.5,Iris-versicolor\\n5.7,2.8,4.5,1.3,Iris-versicolor\\n6.3,3.3,4.7,1.6,Iris-versicolor\\n4.9,2.4,3.3,1.0,Iris-versicolor\\n6.6,2.9,4.6,1.3,Iris-versicolor\\n5.2,2.7,3.9,1.4,Iris-versicolor\\n5.0,2.0,3.5,1.0,Iris-versicolor\\n5.9,3.0,4.2,1.5,Iris-versicolor\\n6.0,2.2,4.0,1.0,Iris-versicolor\\n6.1,2.9,4.7,1.4,Iris-versicolor\\n5.6,2.9,3.6,1.3,Iris-versicolor\\n6.7,3.1,4.4,1.4,Iris-versicolor\\n5.6,3.0,4.5,1.5,Iris-versicolor\\n5.8,2.7,4.1,1.0,Iris-versicolor\\n6.2,2.2,4.5,1.5,Iris-versicolor\\n5.6,2.5,3.9,1.1,Iris-versicolor\\n5.9,3.2,4.8,1.8,Iris-versicolor\\n6.1,2.8,4.0,1.3,Iris-versicolor\\n6.3,2.5,4.9,1.5,Iris-versicolor\\n6.1,2.8,4.7,1.2,Iris-versicolor\\n6.4,2.9,4.3,1.3,Iris-versicolor\\n6.6,3.0,4.4,1.4,Iris-versicolor\\n6.8,2.8,4.8,1.4,Iris-versicolor\\n6.7,3.0,5.0,1.7,Iris-versicolor\\n6.0,2.9,4.5,1.5,Iris-versicolor\\n5.7,2.6,3.5,1.0,Iris-versicolor\\n5.5,2.4,3.8,1.1,Iris-versicolor\\n5.5,2.4,3.7,1.0,Iris-versicolor\\n5.8,2.7,3.9,1.2,Iris-versicolor\\n6.0,2.7,5.1,1.6,Iris-versicolor\\n5.4,3.0,4.5,1.5,Iris-versicolor\\n6.0,3.4,4.5,1.6,Iris-versicolor\\n6.7,3.1,4.7,1.5,Iris-versicolor\\n6.3,2.3,4.4,1.3,Iris-versicolor\\n5.6,3.0,4.1,1.3,Iris-versicolor\\n5.5,2.5,4.0,1.3,Iris-versicolor\\n5.5,2.6,4.4,1.2,Iris-versicolor\\n6.1,3.0,4.6,1.4,Iris-versicolor\\n5.8,2.6,4.0,1.2,Iris-versicolor\\n5.0,2.3,3.3,1.0,Iris-versicolor\\n5.6,2.7,4.2,1.3,Iris-versicolor\\n5.7,3.0,4.2,1.2,Iris-versicolor\\n5.7,2.9,4.2,1.3,Iris-versicolor\\n6.2,2.9,4.3,1.3,Iris-versicolor\\n5.1,2.5,3.0,1.1,Iris-versicolor\\n5.7,2.8,4.1,1.3,Iris-versicolor\\n6.3,3.3,6.0,2.5,Iris-virginica\\n5.8,2.7,5.1,1.9,Iris-virginica\\n7.1,3.0,5.9,2.1,Iris-virginica\\n6.3,2.9,5.6,1.8,Iris-virginica\\n6.5,3.0,5.8,2.2,Iris-virginica\\n7.6,3.0,6.6,2.1,Iris-virginica\\n4.9,2.5,4.5,1.7,Iris-virginica\\n7.3,2.9,6.3,1.8,Iris-virginica\\n6.7,2.5,5.8,1.8,Iris-virginica\\n7.2,3.6,6.1,2.5,Iris-virginica\\n6.5,3.2,5.1,2.0,Iris-virginica\\n6.4,2.7,5.3,1.9,Iris-virginica\\n6.8,3.0,5.5,2.1,Iris-virginica\\n5.7,2.5,5.0,2.0,Iris-virginica\\n5.8,2.8,5.1,2.4,Iris-virginica\\n6.4,3.2,5.3,2.3,Iris-virginica\\n6.5,3.0,5.5,1.8,Iris-virginica\\n7.7,3.8,6.7,2.2,Iris-virginica\\n7.7,2.6,6.9,2.3,Iris-virginica\\n6.0,2.2,5.0,1.5,Iris-virginica\\n6.9,3.2,5.7,2.3,Iris-virginica\\n5.6,2.8,4.9,2.0,Iris-virginica\\n7.7,2.8,6.7,2.0,Iris-virginica\\n6.3,2.7,4.9,1.8,Iris-virginica\\n6.7,3.3,5.7,2.1,Iris-virginica\\n7.2,3.2,6.0,1.8,Iris-virginica\\n6.2,2.8,4.8,1.8,Iris-virginica\\n6.1,3.0,4.9,1.8,Iris-virginica\\n6.4,2.8,5.6,2.1,Iris-virginica\\n7.2,3.0,5.8,1.6,Iris-virginica\\n7.4,2.8,6.1,1.9,Iris-virginica\\n7.9,3.8,6.4,2.0,Iris-virginica\\n6.4,2.8,5.6,2.2,Iris-virginica\\n6.3,2.8,5.1,1.5,Iris-virginica\\n6.1,2.6,5.6,1.4,Iris-virginica\\n7.7,3.0,6.1,2.3,Iris-virginica\\n6.3,3.4,5.6,2.4,Iris-virginica\\n6.4,3.1,5.5,1.8,Iris-virginica\\n6.0,3.0,4.8,1.8,Iris-virginica\\n6.9,3.1,5.4,2.1,Iris-virginica\\n6.7,3.1,5.6,2.4,Iris-virginica\\n6.9,3.1,5.1,2.3,Iris-virginica\\n5.8,2.7,5.1,1.9,Iris-virginica\\n6.8,3.2,5.9,2.3,Iris-virginica\\n6.7,3.3,5.7,2.5,Iris-virginica\\n6.7,3.0,5.2,2.3,Iris-virginica\\n6.3,2.5,5.0,1.9,Iris-virginica\\n6.5,3.0,5.2,2.0,Iris-virginica\\n6.2,3.4,5.4,2.3,Iris-virginica\\n5.9,3.0,5.1,1.8,Iris-virginica\\n\\n'"
      ]
     },
     "execution_count": 54,
     "metadata": {},
     "output_type": "execute_result"
    }
   ],
   "source": [
    "# Download Iris dataset\n",
    "import requests\n",
    "data = requests.get(\n",
    "    \"https://archive.ics.uci.edu/ml/machine-learning-databases/iris/iris.data\")\n",
    "\n",
    "with open('iris.csv','w') as f:\n",
    "    f.write(data.text)\n",
    "data.text"
   ]
  },
  {
   "cell_type": "code",
   "execution_count": 55,
   "metadata": {},
   "outputs": [
    {
     "name": "stdout",
     "output_type": "stream",
     "text": [
      "Processed 0 lines.\n"
     ]
    }
   ],
   "source": [
    "from typing import Dict\n",
    "import csv\n",
    "from collections import defaultdict\n",
    "\n",
    "def parse_iris_row(row: List[str]) -> LabeledPoint:\n",
    "    \"sepal_length, sepal_width, petal_length, petal_width, class\"\n",
    "    measurements = [float(value) for value in row[:-1]]\n",
    "    \n",
    "    #Let's assume e.g. class \"Iris-virginica\" and we just want \"virginica\"\n",
    "    label = row[-1].split(\"-\")[-1]\n",
    "    \n",
    "    return LabeledPoint(measurements, label)\n",
    "\n",
    "with open('iris.csv') as csv_file:\n",
    "    csv_reader = csv.reader(csv_file, delimiter=',')\n",
    "    line_count = 0\n",
    "    iris_data = []\n",
    "    for row in csv_reader:\n",
    "        iris_data.append(row)\n",
    "    print(f'Processed {line_count} lines.')\n"
   ]
  },
  {
   "cell_type": "code",
   "execution_count": 56,
   "metadata": {},
   "outputs": [
    {
     "data": {
      "text/plain": [
       "[['5.1', '3.5', '1.4', '0.2', 'Iris-setosa'],\n",
       " ['4.9', '3.0', '1.4', '0.2', 'Iris-setosa'],\n",
       " ['4.7', '3.2', '1.3', '0.2', 'Iris-setosa'],\n",
       " ['4.6', '3.1', '1.5', '0.2', 'Iris-setosa'],\n",
       " ['5.0', '3.6', '1.4', '0.2', 'Iris-setosa'],\n",
       " ['5.4', '3.9', '1.7', '0.4', 'Iris-setosa'],\n",
       " ['4.6', '3.4', '1.4', '0.3', 'Iris-setosa'],\n",
       " ['5.0', '3.4', '1.5', '0.2', 'Iris-setosa'],\n",
       " ['4.4', '2.9', '1.4', '0.2', 'Iris-setosa'],\n",
       " ['4.9', '3.1', '1.5', '0.1', 'Iris-setosa'],\n",
       " ['5.4', '3.7', '1.5', '0.2', 'Iris-setosa'],\n",
       " ['4.8', '3.4', '1.6', '0.2', 'Iris-setosa'],\n",
       " ['4.8', '3.0', '1.4', '0.1', 'Iris-setosa'],\n",
       " ['4.3', '3.0', '1.1', '0.1', 'Iris-setosa'],\n",
       " ['5.8', '4.0', '1.2', '0.2', 'Iris-setosa'],\n",
       " ['5.7', '4.4', '1.5', '0.4', 'Iris-setosa'],\n",
       " ['5.4', '3.9', '1.3', '0.4', 'Iris-setosa'],\n",
       " ['5.1', '3.5', '1.4', '0.3', 'Iris-setosa'],\n",
       " ['5.7', '3.8', '1.7', '0.3', 'Iris-setosa'],\n",
       " ['5.1', '3.8', '1.5', '0.3', 'Iris-setosa'],\n",
       " ['5.4', '3.4', '1.7', '0.2', 'Iris-setosa'],\n",
       " ['5.1', '3.7', '1.5', '0.4', 'Iris-setosa'],\n",
       " ['4.6', '3.6', '1.0', '0.2', 'Iris-setosa'],\n",
       " ['5.1', '3.3', '1.7', '0.5', 'Iris-setosa'],\n",
       " ['4.8', '3.4', '1.9', '0.2', 'Iris-setosa'],\n",
       " ['5.0', '3.0', '1.6', '0.2', 'Iris-setosa'],\n",
       " ['5.0', '3.4', '1.6', '0.4', 'Iris-setosa'],\n",
       " ['5.2', '3.5', '1.5', '0.2', 'Iris-setosa'],\n",
       " ['5.2', '3.4', '1.4', '0.2', 'Iris-setosa'],\n",
       " ['4.7', '3.2', '1.6', '0.2', 'Iris-setosa'],\n",
       " ['4.8', '3.1', '1.6', '0.2', 'Iris-setosa'],\n",
       " ['5.4', '3.4', '1.5', '0.4', 'Iris-setosa'],\n",
       " ['5.2', '4.1', '1.5', '0.1', 'Iris-setosa'],\n",
       " ['5.5', '4.2', '1.4', '0.2', 'Iris-setosa'],\n",
       " ['4.9', '3.1', '1.5', '0.1', 'Iris-setosa'],\n",
       " ['5.0', '3.2', '1.2', '0.2', 'Iris-setosa'],\n",
       " ['5.5', '3.5', '1.3', '0.2', 'Iris-setosa'],\n",
       " ['4.9', '3.1', '1.5', '0.1', 'Iris-setosa'],\n",
       " ['4.4', '3.0', '1.3', '0.2', 'Iris-setosa'],\n",
       " ['5.1', '3.4', '1.5', '0.2', 'Iris-setosa'],\n",
       " ['5.0', '3.5', '1.3', '0.3', 'Iris-setosa'],\n",
       " ['4.5', '2.3', '1.3', '0.3', 'Iris-setosa'],\n",
       " ['4.4', '3.2', '1.3', '0.2', 'Iris-setosa'],\n",
       " ['5.0', '3.5', '1.6', '0.6', 'Iris-setosa'],\n",
       " ['5.1', '3.8', '1.9', '0.4', 'Iris-setosa'],\n",
       " ['4.8', '3.0', '1.4', '0.3', 'Iris-setosa'],\n",
       " ['5.1', '3.8', '1.6', '0.2', 'Iris-setosa'],\n",
       " ['4.6', '3.2', '1.4', '0.2', 'Iris-setosa'],\n",
       " ['5.3', '3.7', '1.5', '0.2', 'Iris-setosa'],\n",
       " ['5.0', '3.3', '1.4', '0.2', 'Iris-setosa'],\n",
       " ['7.0', '3.2', '4.7', '1.4', 'Iris-versicolor'],\n",
       " ['6.4', '3.2', '4.5', '1.5', 'Iris-versicolor'],\n",
       " ['6.9', '3.1', '4.9', '1.5', 'Iris-versicolor'],\n",
       " ['5.5', '2.3', '4.0', '1.3', 'Iris-versicolor'],\n",
       " ['6.5', '2.8', '4.6', '1.5', 'Iris-versicolor'],\n",
       " ['5.7', '2.8', '4.5', '1.3', 'Iris-versicolor'],\n",
       " ['6.3', '3.3', '4.7', '1.6', 'Iris-versicolor'],\n",
       " ['4.9', '2.4', '3.3', '1.0', 'Iris-versicolor'],\n",
       " ['6.6', '2.9', '4.6', '1.3', 'Iris-versicolor'],\n",
       " ['5.2', '2.7', '3.9', '1.4', 'Iris-versicolor'],\n",
       " ['5.0', '2.0', '3.5', '1.0', 'Iris-versicolor'],\n",
       " ['5.9', '3.0', '4.2', '1.5', 'Iris-versicolor'],\n",
       " ['6.0', '2.2', '4.0', '1.0', 'Iris-versicolor'],\n",
       " ['6.1', '2.9', '4.7', '1.4', 'Iris-versicolor'],\n",
       " ['5.6', '2.9', '3.6', '1.3', 'Iris-versicolor'],\n",
       " ['6.7', '3.1', '4.4', '1.4', 'Iris-versicolor'],\n",
       " ['5.6', '3.0', '4.5', '1.5', 'Iris-versicolor'],\n",
       " ['5.8', '2.7', '4.1', '1.0', 'Iris-versicolor'],\n",
       " ['6.2', '2.2', '4.5', '1.5', 'Iris-versicolor'],\n",
       " ['5.6', '2.5', '3.9', '1.1', 'Iris-versicolor'],\n",
       " ['5.9', '3.2', '4.8', '1.8', 'Iris-versicolor'],\n",
       " ['6.1', '2.8', '4.0', '1.3', 'Iris-versicolor'],\n",
       " ['6.3', '2.5', '4.9', '1.5', 'Iris-versicolor'],\n",
       " ['6.1', '2.8', '4.7', '1.2', 'Iris-versicolor'],\n",
       " ['6.4', '2.9', '4.3', '1.3', 'Iris-versicolor'],\n",
       " ['6.6', '3.0', '4.4', '1.4', 'Iris-versicolor'],\n",
       " ['6.8', '2.8', '4.8', '1.4', 'Iris-versicolor'],\n",
       " ['6.7', '3.0', '5.0', '1.7', 'Iris-versicolor'],\n",
       " ['6.0', '2.9', '4.5', '1.5', 'Iris-versicolor'],\n",
       " ['5.7', '2.6', '3.5', '1.0', 'Iris-versicolor'],\n",
       " ['5.5', '2.4', '3.8', '1.1', 'Iris-versicolor'],\n",
       " ['5.5', '2.4', '3.7', '1.0', 'Iris-versicolor'],\n",
       " ['5.8', '2.7', '3.9', '1.2', 'Iris-versicolor'],\n",
       " ['6.0', '2.7', '5.1', '1.6', 'Iris-versicolor'],\n",
       " ['5.4', '3.0', '4.5', '1.5', 'Iris-versicolor'],\n",
       " ['6.0', '3.4', '4.5', '1.6', 'Iris-versicolor'],\n",
       " ['6.7', '3.1', '4.7', '1.5', 'Iris-versicolor'],\n",
       " ['6.3', '2.3', '4.4', '1.3', 'Iris-versicolor'],\n",
       " ['5.6', '3.0', '4.1', '1.3', 'Iris-versicolor'],\n",
       " ['5.5', '2.5', '4.0', '1.3', 'Iris-versicolor'],\n",
       " ['5.5', '2.6', '4.4', '1.2', 'Iris-versicolor'],\n",
       " ['6.1', '3.0', '4.6', '1.4', 'Iris-versicolor'],\n",
       " ['5.8', '2.6', '4.0', '1.2', 'Iris-versicolor'],\n",
       " ['5.0', '2.3', '3.3', '1.0', 'Iris-versicolor'],\n",
       " ['5.6', '2.7', '4.2', '1.3', 'Iris-versicolor'],\n",
       " ['5.7', '3.0', '4.2', '1.2', 'Iris-versicolor'],\n",
       " ['5.7', '2.9', '4.2', '1.3', 'Iris-versicolor'],\n",
       " ['6.2', '2.9', '4.3', '1.3', 'Iris-versicolor'],\n",
       " ['5.1', '2.5', '3.0', '1.1', 'Iris-versicolor'],\n",
       " ['5.7', '2.8', '4.1', '1.3', 'Iris-versicolor'],\n",
       " ['6.3', '3.3', '6.0', '2.5', 'Iris-virginica'],\n",
       " ['5.8', '2.7', '5.1', '1.9', 'Iris-virginica'],\n",
       " ['7.1', '3.0', '5.9', '2.1', 'Iris-virginica'],\n",
       " ['6.3', '2.9', '5.6', '1.8', 'Iris-virginica'],\n",
       " ['6.5', '3.0', '5.8', '2.2', 'Iris-virginica'],\n",
       " ['7.6', '3.0', '6.6', '2.1', 'Iris-virginica'],\n",
       " ['4.9', '2.5', '4.5', '1.7', 'Iris-virginica'],\n",
       " ['7.3', '2.9', '6.3', '1.8', 'Iris-virginica'],\n",
       " ['6.7', '2.5', '5.8', '1.8', 'Iris-virginica'],\n",
       " ['7.2', '3.6', '6.1', '2.5', 'Iris-virginica'],\n",
       " ['6.5', '3.2', '5.1', '2.0', 'Iris-virginica'],\n",
       " ['6.4', '2.7', '5.3', '1.9', 'Iris-virginica'],\n",
       " ['6.8', '3.0', '5.5', '2.1', 'Iris-virginica'],\n",
       " ['5.7', '2.5', '5.0', '2.0', 'Iris-virginica'],\n",
       " ['5.8', '2.8', '5.1', '2.4', 'Iris-virginica'],\n",
       " ['6.4', '3.2', '5.3', '2.3', 'Iris-virginica'],\n",
       " ['6.5', '3.0', '5.5', '1.8', 'Iris-virginica'],\n",
       " ['7.7', '3.8', '6.7', '2.2', 'Iris-virginica'],\n",
       " ['7.7', '2.6', '6.9', '2.3', 'Iris-virginica'],\n",
       " ['6.0', '2.2', '5.0', '1.5', 'Iris-virginica'],\n",
       " ['6.9', '3.2', '5.7', '2.3', 'Iris-virginica'],\n",
       " ['5.6', '2.8', '4.9', '2.0', 'Iris-virginica'],\n",
       " ['7.7', '2.8', '6.7', '2.0', 'Iris-virginica'],\n",
       " ['6.3', '2.7', '4.9', '1.8', 'Iris-virginica'],\n",
       " ['6.7', '3.3', '5.7', '2.1', 'Iris-virginica'],\n",
       " ['7.2', '3.2', '6.0', '1.8', 'Iris-virginica'],\n",
       " ['6.2', '2.8', '4.8', '1.8', 'Iris-virginica'],\n",
       " ['6.1', '3.0', '4.9', '1.8', 'Iris-virginica'],\n",
       " ['6.4', '2.8', '5.6', '2.1', 'Iris-virginica'],\n",
       " ['7.2', '3.0', '5.8', '1.6', 'Iris-virginica'],\n",
       " ['7.4', '2.8', '6.1', '1.9', 'Iris-virginica'],\n",
       " ['7.9', '3.8', '6.4', '2.0', 'Iris-virginica'],\n",
       " ['6.4', '2.8', '5.6', '2.2', 'Iris-virginica'],\n",
       " ['6.3', '2.8', '5.1', '1.5', 'Iris-virginica'],\n",
       " ['6.1', '2.6', '5.6', '1.4', 'Iris-virginica'],\n",
       " ['7.7', '3.0', '6.1', '2.3', 'Iris-virginica'],\n",
       " ['6.3', '3.4', '5.6', '2.4', 'Iris-virginica'],\n",
       " ['6.4', '3.1', '5.5', '1.8', 'Iris-virginica'],\n",
       " ['6.0', '3.0', '4.8', '1.8', 'Iris-virginica'],\n",
       " ['6.9', '3.1', '5.4', '2.1', 'Iris-virginica'],\n",
       " ['6.7', '3.1', '5.6', '2.4', 'Iris-virginica'],\n",
       " ['6.9', '3.1', '5.1', '2.3', 'Iris-virginica'],\n",
       " ['5.8', '2.7', '5.1', '1.9', 'Iris-virginica'],\n",
       " ['6.8', '3.2', '5.9', '2.3', 'Iris-virginica'],\n",
       " ['6.7', '3.3', '5.7', '2.5', 'Iris-virginica'],\n",
       " ['6.7', '3.0', '5.2', '2.3', 'Iris-virginica'],\n",
       " ['6.3', '2.5', '5.0', '1.9', 'Iris-virginica'],\n",
       " ['6.5', '3.0', '5.2', '2.0', 'Iris-virginica'],\n",
       " ['6.2', '3.4', '5.4', '2.3', 'Iris-virginica'],\n",
       " ['5.9', '3.0', '5.1', '1.8', 'Iris-virginica'],\n",
       " []]"
      ]
     },
     "execution_count": 56,
     "metadata": {},
     "output_type": "execute_result"
    }
   ],
   "source": [
    "iris_data"
   ]
  },
  {
   "cell_type": "code",
   "execution_count": 57,
   "metadata": {},
   "outputs": [
    {
     "data": {
      "text/plain": [
       "[LabeledPoint(point=[5.1, 3.5, 1.4, 0.2], label='setosa'),\n",
       " LabeledPoint(point=[4.9, 3.0, 1.4, 0.2], label='setosa'),\n",
       " LabeledPoint(point=[4.7, 3.2, 1.3, 0.2], label='setosa'),\n",
       " LabeledPoint(point=[4.6, 3.1, 1.5, 0.2], label='setosa'),\n",
       " LabeledPoint(point=[5.0, 3.6, 1.4, 0.2], label='setosa'),\n",
       " LabeledPoint(point=[5.4, 3.9, 1.7, 0.4], label='setosa'),\n",
       " LabeledPoint(point=[4.6, 3.4, 1.4, 0.3], label='setosa'),\n",
       " LabeledPoint(point=[5.0, 3.4, 1.5, 0.2], label='setosa'),\n",
       " LabeledPoint(point=[4.4, 2.9, 1.4, 0.2], label='setosa'),\n",
       " LabeledPoint(point=[4.9, 3.1, 1.5, 0.1], label='setosa'),\n",
       " LabeledPoint(point=[5.4, 3.7, 1.5, 0.2], label='setosa'),\n",
       " LabeledPoint(point=[4.8, 3.4, 1.6, 0.2], label='setosa'),\n",
       " LabeledPoint(point=[4.8, 3.0, 1.4, 0.1], label='setosa'),\n",
       " LabeledPoint(point=[4.3, 3.0, 1.1, 0.1], label='setosa'),\n",
       " LabeledPoint(point=[5.8, 4.0, 1.2, 0.2], label='setosa'),\n",
       " LabeledPoint(point=[5.7, 4.4, 1.5, 0.4], label='setosa'),\n",
       " LabeledPoint(point=[5.4, 3.9, 1.3, 0.4], label='setosa'),\n",
       " LabeledPoint(point=[5.1, 3.5, 1.4, 0.3], label='setosa'),\n",
       " LabeledPoint(point=[5.7, 3.8, 1.7, 0.3], label='setosa'),\n",
       " LabeledPoint(point=[5.1, 3.8, 1.5, 0.3], label='setosa'),\n",
       " LabeledPoint(point=[5.4, 3.4, 1.7, 0.2], label='setosa'),\n",
       " LabeledPoint(point=[5.1, 3.7, 1.5, 0.4], label='setosa'),\n",
       " LabeledPoint(point=[4.6, 3.6, 1.0, 0.2], label='setosa'),\n",
       " LabeledPoint(point=[5.1, 3.3, 1.7, 0.5], label='setosa'),\n",
       " LabeledPoint(point=[4.8, 3.4, 1.9, 0.2], label='setosa'),\n",
       " LabeledPoint(point=[5.0, 3.0, 1.6, 0.2], label='setosa'),\n",
       " LabeledPoint(point=[5.0, 3.4, 1.6, 0.4], label='setosa'),\n",
       " LabeledPoint(point=[5.2, 3.5, 1.5, 0.2], label='setosa'),\n",
       " LabeledPoint(point=[5.2, 3.4, 1.4, 0.2], label='setosa'),\n",
       " LabeledPoint(point=[4.7, 3.2, 1.6, 0.2], label='setosa'),\n",
       " LabeledPoint(point=[4.8, 3.1, 1.6, 0.2], label='setosa'),\n",
       " LabeledPoint(point=[5.4, 3.4, 1.5, 0.4], label='setosa'),\n",
       " LabeledPoint(point=[5.2, 4.1, 1.5, 0.1], label='setosa'),\n",
       " LabeledPoint(point=[5.5, 4.2, 1.4, 0.2], label='setosa'),\n",
       " LabeledPoint(point=[4.9, 3.1, 1.5, 0.1], label='setosa'),\n",
       " LabeledPoint(point=[5.0, 3.2, 1.2, 0.2], label='setosa'),\n",
       " LabeledPoint(point=[5.5, 3.5, 1.3, 0.2], label='setosa'),\n",
       " LabeledPoint(point=[4.9, 3.1, 1.5, 0.1], label='setosa'),\n",
       " LabeledPoint(point=[4.4, 3.0, 1.3, 0.2], label='setosa'),\n",
       " LabeledPoint(point=[5.1, 3.4, 1.5, 0.2], label='setosa'),\n",
       " LabeledPoint(point=[5.0, 3.5, 1.3, 0.3], label='setosa'),\n",
       " LabeledPoint(point=[4.5, 2.3, 1.3, 0.3], label='setosa'),\n",
       " LabeledPoint(point=[4.4, 3.2, 1.3, 0.2], label='setosa'),\n",
       " LabeledPoint(point=[5.0, 3.5, 1.6, 0.6], label='setosa'),\n",
       " LabeledPoint(point=[5.1, 3.8, 1.9, 0.4], label='setosa'),\n",
       " LabeledPoint(point=[4.8, 3.0, 1.4, 0.3], label='setosa'),\n",
       " LabeledPoint(point=[5.1, 3.8, 1.6, 0.2], label='setosa'),\n",
       " LabeledPoint(point=[4.6, 3.2, 1.4, 0.2], label='setosa'),\n",
       " LabeledPoint(point=[5.3, 3.7, 1.5, 0.2], label='setosa'),\n",
       " LabeledPoint(point=[5.0, 3.3, 1.4, 0.2], label='setosa'),\n",
       " LabeledPoint(point=[7.0, 3.2, 4.7, 1.4], label='versicolor'),\n",
       " LabeledPoint(point=[6.4, 3.2, 4.5, 1.5], label='versicolor'),\n",
       " LabeledPoint(point=[6.9, 3.1, 4.9, 1.5], label='versicolor'),\n",
       " LabeledPoint(point=[5.5, 2.3, 4.0, 1.3], label='versicolor'),\n",
       " LabeledPoint(point=[6.5, 2.8, 4.6, 1.5], label='versicolor'),\n",
       " LabeledPoint(point=[5.7, 2.8, 4.5, 1.3], label='versicolor'),\n",
       " LabeledPoint(point=[6.3, 3.3, 4.7, 1.6], label='versicolor'),\n",
       " LabeledPoint(point=[4.9, 2.4, 3.3, 1.0], label='versicolor'),\n",
       " LabeledPoint(point=[6.6, 2.9, 4.6, 1.3], label='versicolor'),\n",
       " LabeledPoint(point=[5.2, 2.7, 3.9, 1.4], label='versicolor'),\n",
       " LabeledPoint(point=[5.0, 2.0, 3.5, 1.0], label='versicolor'),\n",
       " LabeledPoint(point=[5.9, 3.0, 4.2, 1.5], label='versicolor'),\n",
       " LabeledPoint(point=[6.0, 2.2, 4.0, 1.0], label='versicolor'),\n",
       " LabeledPoint(point=[6.1, 2.9, 4.7, 1.4], label='versicolor'),\n",
       " LabeledPoint(point=[5.6, 2.9, 3.6, 1.3], label='versicolor'),\n",
       " LabeledPoint(point=[6.7, 3.1, 4.4, 1.4], label='versicolor'),\n",
       " LabeledPoint(point=[5.6, 3.0, 4.5, 1.5], label='versicolor'),\n",
       " LabeledPoint(point=[5.8, 2.7, 4.1, 1.0], label='versicolor'),\n",
       " LabeledPoint(point=[6.2, 2.2, 4.5, 1.5], label='versicolor'),\n",
       " LabeledPoint(point=[5.6, 2.5, 3.9, 1.1], label='versicolor'),\n",
       " LabeledPoint(point=[5.9, 3.2, 4.8, 1.8], label='versicolor'),\n",
       " LabeledPoint(point=[6.1, 2.8, 4.0, 1.3], label='versicolor'),\n",
       " LabeledPoint(point=[6.3, 2.5, 4.9, 1.5], label='versicolor'),\n",
       " LabeledPoint(point=[6.1, 2.8, 4.7, 1.2], label='versicolor'),\n",
       " LabeledPoint(point=[6.4, 2.9, 4.3, 1.3], label='versicolor'),\n",
       " LabeledPoint(point=[6.6, 3.0, 4.4, 1.4], label='versicolor'),\n",
       " LabeledPoint(point=[6.8, 2.8, 4.8, 1.4], label='versicolor'),\n",
       " LabeledPoint(point=[6.7, 3.0, 5.0, 1.7], label='versicolor'),\n",
       " LabeledPoint(point=[6.0, 2.9, 4.5, 1.5], label='versicolor'),\n",
       " LabeledPoint(point=[5.7, 2.6, 3.5, 1.0], label='versicolor'),\n",
       " LabeledPoint(point=[5.5, 2.4, 3.8, 1.1], label='versicolor'),\n",
       " LabeledPoint(point=[5.5, 2.4, 3.7, 1.0], label='versicolor'),\n",
       " LabeledPoint(point=[5.8, 2.7, 3.9, 1.2], label='versicolor'),\n",
       " LabeledPoint(point=[6.0, 2.7, 5.1, 1.6], label='versicolor'),\n",
       " LabeledPoint(point=[5.4, 3.0, 4.5, 1.5], label='versicolor'),\n",
       " LabeledPoint(point=[6.0, 3.4, 4.5, 1.6], label='versicolor'),\n",
       " LabeledPoint(point=[6.7, 3.1, 4.7, 1.5], label='versicolor'),\n",
       " LabeledPoint(point=[6.3, 2.3, 4.4, 1.3], label='versicolor'),\n",
       " LabeledPoint(point=[5.6, 3.0, 4.1, 1.3], label='versicolor'),\n",
       " LabeledPoint(point=[5.5, 2.5, 4.0, 1.3], label='versicolor'),\n",
       " LabeledPoint(point=[5.5, 2.6, 4.4, 1.2], label='versicolor'),\n",
       " LabeledPoint(point=[6.1, 3.0, 4.6, 1.4], label='versicolor'),\n",
       " LabeledPoint(point=[5.8, 2.6, 4.0, 1.2], label='versicolor'),\n",
       " LabeledPoint(point=[5.0, 2.3, 3.3, 1.0], label='versicolor'),\n",
       " LabeledPoint(point=[5.6, 2.7, 4.2, 1.3], label='versicolor'),\n",
       " LabeledPoint(point=[5.7, 3.0, 4.2, 1.2], label='versicolor'),\n",
       " LabeledPoint(point=[5.7, 2.9, 4.2, 1.3], label='versicolor'),\n",
       " LabeledPoint(point=[6.2, 2.9, 4.3, 1.3], label='versicolor'),\n",
       " LabeledPoint(point=[5.1, 2.5, 3.0, 1.1], label='versicolor'),\n",
       " LabeledPoint(point=[5.7, 2.8, 4.1, 1.3], label='versicolor'),\n",
       " LabeledPoint(point=[6.3, 3.3, 6.0, 2.5], label='virginica'),\n",
       " LabeledPoint(point=[5.8, 2.7, 5.1, 1.9], label='virginica'),\n",
       " LabeledPoint(point=[7.1, 3.0, 5.9, 2.1], label='virginica'),\n",
       " LabeledPoint(point=[6.3, 2.9, 5.6, 1.8], label='virginica'),\n",
       " LabeledPoint(point=[6.5, 3.0, 5.8, 2.2], label='virginica'),\n",
       " LabeledPoint(point=[7.6, 3.0, 6.6, 2.1], label='virginica'),\n",
       " LabeledPoint(point=[4.9, 2.5, 4.5, 1.7], label='virginica'),\n",
       " LabeledPoint(point=[7.3, 2.9, 6.3, 1.8], label='virginica'),\n",
       " LabeledPoint(point=[6.7, 2.5, 5.8, 1.8], label='virginica'),\n",
       " LabeledPoint(point=[7.2, 3.6, 6.1, 2.5], label='virginica'),\n",
       " LabeledPoint(point=[6.5, 3.2, 5.1, 2.0], label='virginica'),\n",
       " LabeledPoint(point=[6.4, 2.7, 5.3, 1.9], label='virginica'),\n",
       " LabeledPoint(point=[6.8, 3.0, 5.5, 2.1], label='virginica'),\n",
       " LabeledPoint(point=[5.7, 2.5, 5.0, 2.0], label='virginica'),\n",
       " LabeledPoint(point=[5.8, 2.8, 5.1, 2.4], label='virginica'),\n",
       " LabeledPoint(point=[6.4, 3.2, 5.3, 2.3], label='virginica'),\n",
       " LabeledPoint(point=[6.5, 3.0, 5.5, 1.8], label='virginica'),\n",
       " LabeledPoint(point=[7.7, 3.8, 6.7, 2.2], label='virginica'),\n",
       " LabeledPoint(point=[7.7, 2.6, 6.9, 2.3], label='virginica'),\n",
       " LabeledPoint(point=[6.0, 2.2, 5.0, 1.5], label='virginica'),\n",
       " LabeledPoint(point=[6.9, 3.2, 5.7, 2.3], label='virginica'),\n",
       " LabeledPoint(point=[5.6, 2.8, 4.9, 2.0], label='virginica'),\n",
       " LabeledPoint(point=[7.7, 2.8, 6.7, 2.0], label='virginica'),\n",
       " LabeledPoint(point=[6.3, 2.7, 4.9, 1.8], label='virginica'),\n",
       " LabeledPoint(point=[6.7, 3.3, 5.7, 2.1], label='virginica'),\n",
       " LabeledPoint(point=[7.2, 3.2, 6.0, 1.8], label='virginica'),\n",
       " LabeledPoint(point=[6.2, 2.8, 4.8, 1.8], label='virginica'),\n",
       " LabeledPoint(point=[6.1, 3.0, 4.9, 1.8], label='virginica'),\n",
       " LabeledPoint(point=[6.4, 2.8, 5.6, 2.1], label='virginica'),\n",
       " LabeledPoint(point=[7.2, 3.0, 5.8, 1.6], label='virginica'),\n",
       " LabeledPoint(point=[7.4, 2.8, 6.1, 1.9], label='virginica'),\n",
       " LabeledPoint(point=[7.9, 3.8, 6.4, 2.0], label='virginica'),\n",
       " LabeledPoint(point=[6.4, 2.8, 5.6, 2.2], label='virginica'),\n",
       " LabeledPoint(point=[6.3, 2.8, 5.1, 1.5], label='virginica'),\n",
       " LabeledPoint(point=[6.1, 2.6, 5.6, 1.4], label='virginica'),\n",
       " LabeledPoint(point=[7.7, 3.0, 6.1, 2.3], label='virginica'),\n",
       " LabeledPoint(point=[6.3, 3.4, 5.6, 2.4], label='virginica'),\n",
       " LabeledPoint(point=[6.4, 3.1, 5.5, 1.8], label='virginica'),\n",
       " LabeledPoint(point=[6.0, 3.0, 4.8, 1.8], label='virginica'),\n",
       " LabeledPoint(point=[6.9, 3.1, 5.4, 2.1], label='virginica'),\n",
       " LabeledPoint(point=[6.7, 3.1, 5.6, 2.4], label='virginica'),\n",
       " LabeledPoint(point=[6.9, 3.1, 5.1, 2.3], label='virginica'),\n",
       " LabeledPoint(point=[5.8, 2.7, 5.1, 1.9], label='virginica'),\n",
       " LabeledPoint(point=[6.8, 3.2, 5.9, 2.3], label='virginica'),\n",
       " LabeledPoint(point=[6.7, 3.3, 5.7, 2.5], label='virginica'),\n",
       " LabeledPoint(point=[6.7, 3.0, 5.2, 2.3], label='virginica'),\n",
       " LabeledPoint(point=[6.3, 2.5, 5.0, 1.9], label='virginica'),\n",
       " LabeledPoint(point=[6.5, 3.0, 5.2, 2.0], label='virginica'),\n",
       " LabeledPoint(point=[6.2, 3.4, 5.4, 2.3], label='virginica')]"
      ]
     },
     "execution_count": 57,
     "metadata": {},
     "output_type": "execute_result"
    }
   ],
   "source": [
    "iris_data = iris_data[:-2]\n",
    "\n",
    "iris_data = [parse_iris_row(row) for row in iris_data]\n",
    "iris_data"
   ]
  },
  {
   "cell_type": "code",
   "execution_count": 58,
   "metadata": {},
   "outputs": [
    {
     "data": {
      "image/png": "[encoded data removed]",
      "text/plain": [
       "<Figure size 432x288 with 6 Axes>"
      ]
     },
     "metadata": {
      "needs_background": "light"
     },
     "output_type": "display_data"
    },
    {
     "data": {
      "text/plain": [
       "[(0, 1), (0, 2), (0, 3), (1, 2), (1, 3), (2, 3)]"
      ]
     },
     "execution_count": 58,
     "metadata": {},
     "output_type": "execute_result"
    }
   ],
   "source": [
    "# group the points by species for plotting\n",
    "points_by_species: Dict[str, List[Vector]] = defaultdict(list)\n",
    "for iris in iris_data:\n",
    "    points_by_species[iris.label].append(iris.point)\n",
    "    \n",
    "from matplotlib import pyplot as plt\n",
    "metrics = ['sepal_length', 'sepal_width', 'petal_length', 'petal_width']\n",
    "pairs = [(i,j) for i in range(4) for j in range(4) if i<j]\n",
    "marks = ['+','.','x'] # 3 markers for 3 classes\n",
    "\n",
    "fig, ax = plt.subplots(2,3)\n",
    "\n",
    "for row in range(2):\n",
    "    for col in range(3):\n",
    "        i,j = pairs [3*row+col]\n",
    "        ax[row][col].set_title(f\"{metrics[i]} vs {metrics[j]}\", fontsize = 8)\n",
    "        ax[row][col].set_xticks([])\n",
    "        ax[row][col].set_xticks([])\n",
    "        \n",
    "        for mark, (species, points) in zip(marks, points_by_species.items()):\n",
    "            xs = [point[i] for point in points]\n",
    "            ys = [point[j] for point in points]\n",
    "            ax[row][col].scatter(xs,ys, marker = mark, label = species)\n",
    "            \n",
    "ax[-1][-1].legend(loc = 'lower right', prop = {'size':6})\n",
    "plt.show()\n",
    "pairs\n",
    "       "
   ]
  },
  {
   "cell_type": "code",
   "execution_count": 63,
   "metadata": {},
   "outputs": [
    {
     "name": "stdout",
     "output_type": "stream",
     "text": [
      "1.0 defaultdict(<class 'int'>, {('versicolor', 'versicolor'): 16, ('setosa', 'setosa'): 13, ('virginica', 'virginica'): 16})\n"
     ]
    }
   ],
   "source": [
    "import random\n",
    "from machine_learning import split_data\n",
    "import math\n",
    "\n",
    "random.seed(12)\n",
    "iris_train,iris_test = split_data(iris_data, 0.70)\n",
    "\n",
    "from typing import Tuple\n",
    "\n",
    "# Track how many times we see (predicted, actual)\n",
    "confusion_matrix: Dict[Tuple[str, str], int] = defaultdict(int)\n",
    "num_correct = 0\n",
    "\n",
    "k = 5\n",
    "for iris in iris_test:\n",
    "    predicted = knn_classify(k, iris_train, iris.point)\n",
    "    actual = iris.label\n",
    "    \n",
    "    if predicted == actual:\n",
    "        num_correct += 1\n",
    "        \n",
    "    confusion_matrix[(predicted, actual)]+=1\n",
    "    \n",
    "pct_correct = num_correct/len(iris_test)\n",
    "print(pct_correct, confusion_matrix)"
   ]
  },
  {
   "cell_type": "code",
   "execution_count": 64,
   "metadata": {},
   "outputs": [
    {
     "name": "stderr",
     "output_type": "stream",
     "text": [
      "Curse of Dimensionality: 100%|███████████████████████████████████████████████████████| 100/100 [00:17<00:00,  3.13it/s]\n"
     ]
    },
    {
     "data": {
      "text/plain": [
       "[<matplotlib.lines.Line2D at 0x19bc36c5a20>]"
      ]
     },
     "execution_count": 64,
     "metadata": {},
     "output_type": "execute_result"
    },
    {
     "data": {
      "image/png": "[encoded data removed]",
      "text/plain": [
       "<Figure size 432x288 with 1 Axes>"
      ]
     },
     "metadata": {
      "needs_background": "light"
     },
     "output_type": "display_data"
    }
   ],
   "source": [
    "# curse of dimensionality\n",
    "def random_point(dim: int) -> Vector:\n",
    "    return [random.random() for _ in range(dim)]\n",
    "\n",
    "def random_distance(dim: int, num_pairs: int) -> List[float]:\n",
    "    return [distance(random_point(dim), random_point(dim)) \n",
    "            for _ in range(num_pairs)]\n",
    "import tqdm\n",
    "dimensions = range(1,101)\n",
    "avg_distances = []\n",
    "min_distances = []\n",
    "random.seed(0)\n",
    "for dim in tqdm.tqdm(dimensions, desc = \"Curse of Dimensionality\"):\n",
    "    distances = random_distance(dim, 10000) # 10,000 random pairs\n",
    "    avg_distances.append(sum(distances) / 10000) # track averages\n",
    "    min_distances.append(min(distances)) # track minimums\n",
    "    \n",
    "plt.plot(dimensions, avg_distances)"
   ]
  },
  {
   "cell_type": "code",
   "execution_count": 65,
   "metadata": {},
   "outputs": [
    {
     "data": {
      "text/plain": [
       "[<matplotlib.lines.Line2D at 0x19bc2e34cf8>]"
      ]
     },
     "execution_count": 65,
     "metadata": {},
     "output_type": "execute_result"
    },
    {
     "data": {
      "image/png": "[encoded data removed]",
      "text/plain": [
       "<Figure size 432x288 with 1 Axes>"
      ]
     },
     "metadata": {
      "needs_background": "light"
     },
     "output_type": "display_data"
    }
   ],
   "source": [
    "min_avg_ratio = [min_dist / avg_dist \n",
    "                for min_dist, avg_dist in zip(min_distances, avg_distances)]\n",
    "plt.plot(dimensions, avg_distances)\n",
    "plt.plot(dimensions, min_avg_ratio)"
   ]
  }
 ],
 "metadata": {
  "kernelspec": {
   "display_name": "Python 3",
   "language": "python",
   "name": "python3"
  },
  "language_info": {
   "codemirror_mode": {
    "name": "ipython",
    "version": 3
   },
   "file_extension": ".py",
   "mimetype": "text/x-python",
   "name": "python",
   "nbconvert_exporter": "python",
   "pygments_lexer": "ipython3",
   "version": "3.7.0"
  }
 },
 "nbformat": 4,
 "nbformat_minor": 2
}
