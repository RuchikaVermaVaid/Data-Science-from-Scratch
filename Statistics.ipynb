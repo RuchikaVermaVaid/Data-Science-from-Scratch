{
 "cells": [
  {
   "cell_type": "code",
   "execution_count": 27,
   "metadata": {},
   "outputs": [],
   "source": [
    "# -*- coding: utf-8 -*-\n",
    "\"\"\"\n",
    "Created on Fri Jun 28 22:06:19 2019\n",
    "\n",
    "@author: Ruchika\n",
    "\"\"\"\n",
    "\n",
    "from collections import Counter\n",
    "import matplotlib.pyplot as plt\n",
    "\n",
    "num_friends = [100.0,49,41,40,25,21,21,19,19,18,18,16,15,15,15,15,14,14,13,13,13,13,12,12,11,10,10,10,10,10,10,10,10,10,10,10,10,10,10,10,9,9,9,9,9,9,9,9,9,9,9,9,9,9,9,9,9,9,8,8,8,8,8,8,8,8,8,8,8,8,8,7,7,7,7,7,7,7,7,7,7,7,7,7,7,7,6,6,6,6,6,6,6,6,6,6,6,6,6,6,6,6,6,6,6,6,6,6,5,5,5,5,5,5,5,5,5,5,5,5,5,5,5,5,5,4,4,4,4,4,4,4,4,4,4,4,4,4,4,4,4,4,4,4,4,3,3,3,3,3,3,3,3,3,3,3,3,3,3,3,3,3,3,3,3,2,2,2,2,2,2,2,2,2,2,2,2,2,2,2,2,2,1,1,1,1,1,1,1,1,1,1,1,1,1,1,1,1,1,1,1,1,1,1]\n",
    "friend_counts = Counter(num_friends)#Create a dictionary with friend_number as key and its count as value\n"
   ]
  },
  {
   "cell_type": "code",
   "execution_count": 28,
   "metadata": {},
   "outputs": [
    {
     "data": {
      "image/png": "[encoded data removed]",
      "text/plain": [
       "<Figure size 432x288 with 1 Axes>"
      ]
     },
     "metadata": {
      "needs_background": "light"
     },
     "output_type": "display_data"
    }
   ],
   "source": [
    "######################################################################################\n",
    "###########################       Histogram plot    #################################\n",
    "######################################################################################\n",
    "\n",
    "xs = [x for x in range(101)]#Largest value is 100\n",
    "ys = [friend_counts[x] for x in xs]\n",
    "plt.figure\n",
    "plt.bar(xs,ys)\n",
    "plt.axis([0,101,0,25])\n",
    "plt.title('Histogram of Friend Counts')\n",
    "plt.xlabel('# of friends')\n",
    "plt.ylabel('# of people')\n",
    "plt.show()"
   ]
  },
  {
   "cell_type": "code",
   "execution_count": 29,
   "metadata": {},
   "outputs": [],
   "source": [
    "# Find number of points\n",
    "num_points = len(num_friends)\n",
    "largest_value = max(num_friends)# Largest value\n",
    "smallest_value = min(num_friends)# Smallest value\n",
    "\n",
    "sorted_values = sorted(num_friends)#Sorted values\n",
    "smallest_value = sorted_values[0]\n",
    "second_smallest_value = sorted_values[1]\n",
    "second_largest_value = sorted_values[-2]"
   ]
  },
  {
   "cell_type": "code",
   "execution_count": 30,
   "metadata": {},
   "outputs": [],
   "source": [
    "######################################################################################\n",
    "###########################   Find mean of dataponts  ################################\n",
    "######################################################################################\n",
    "\n",
    "from typing import List\n",
    "\n",
    "#Find mean of the data\n",
    "def mean(xs: List[float]) -> float:\n",
    "    return sum(xs)/len(xs)\n"
   ]
  },
  {
   "cell_type": "code",
   "execution_count": 31,
   "metadata": {},
   "outputs": [
    {
     "data": {
      "text/plain": [
       "7.333333333333333"
      ]
     },
     "execution_count": 31,
     "metadata": {},
     "output_type": "execute_result"
    }
   ],
   "source": [
    "mean(num_friends)"
   ]
  },
  {
   "cell_type": "code",
   "execution_count": 32,
   "metadata": {},
   "outputs": [],
   "source": [
    "######################################################################################\n",
    "###########################   Find median of dataponts  ################################\n",
    "######################################################################################\n",
    "\n",
    "def _median_odd(xs: List[float]) -> float:\n",
    "    #If the length of xs is odd, median is the middle value after sorting the array\n",
    "    return (sorted(xs)[len(xs)//2])\n",
    "\n",
    "def _median_even(xs: List[float]) -> float:\n",
    "    #If the length of xs is even, median is the average of the sorted middle two elements\n",
    "    idx = len(xs)//2    \n",
    "    return (sum(sorted(xs)[idx-1:idx+1])*0.5)\n",
    "\n",
    "def median(v: List[float]) -> float:\n",
    "    return _median_even(v) if len(v)%2 == 0 else _median_odd(v)"
   ]
  },
  {
   "cell_type": "code",
   "execution_count": 33,
   "metadata": {},
   "outputs": [
    {
     "data": {
      "text/plain": [
       "5"
      ]
     },
     "execution_count": 33,
     "metadata": {},
     "output_type": "execute_result"
    }
   ],
   "source": [
    "median([1,10,2,9,5])"
   ]
  },
  {
   "cell_type": "code",
   "execution_count": 34,
   "metadata": {},
   "outputs": [
    {
     "data": {
      "text/plain": [
       "3.5"
      ]
     },
     "execution_count": 34,
     "metadata": {},
     "output_type": "execute_result"
    }
   ],
   "source": [
    "median([1,5,2,9])"
   ]
  },
  {
   "cell_type": "code",
   "execution_count": 35,
   "metadata": {},
   "outputs": [
    {
     "data": {
      "text/plain": [
       "9"
      ]
     },
     "execution_count": 35,
     "metadata": {},
     "output_type": "execute_result"
    }
   ],
   "source": [
    "######################################################################################\n",
    "#####################   Returns the certain percentile (p) of the data  ##############\n",
    "######################################################################################\n",
    "\n",
    "def quantile(xs:  List[float], p:float)-> float:\n",
    "    p_index = int(p*len(xs))\n",
    "    return sorted(xs)[p_index]\n",
    "\n",
    "\n",
    "# Call function\n",
    "quantile(num_friends,0.1)\n",
    "quantile(num_friends,0.5)\n",
    "quantile(num_friends,0.75)"
   ]
  },
  {
   "cell_type": "code",
   "execution_count": 36,
   "metadata": {},
   "outputs": [],
   "source": [
    "######################################################################################\n",
    "###########################   Find mode of dataponts  ################################\n",
    "######################################################################################\n",
    "\n",
    "def mode(x: List[float]) -> float:\n",
    "    counts = Counter(x)\n",
    "    max_count = max(counts.values())\n",
    "    return [x_i for x_i, count in counts.items() if count == max_count]"
   ]
  },
  {
   "cell_type": "code",
   "execution_count": 37,
   "metadata": {},
   "outputs": [
    {
     "data": {
      "text/plain": [
       "[6, 1]"
      ]
     },
     "execution_count": 37,
     "metadata": {},
     "output_type": "execute_result"
    }
   ],
   "source": [
    "mode(num_friends)"
   ]
  },
  {
   "cell_type": "code",
   "execution_count": 38,
   "metadata": {},
   "outputs": [],
   "source": [
    "######################################################################################\n",
    "##########    Dispersion of the data can be measured using range  ###################\n",
    "######################################################################################\n",
    "\n",
    "def data_range(xs: List[float])-> float:\n",
    "    return max(xs) - min(xs)"
   ]
  },
  {
   "cell_type": "code",
   "execution_count": 39,
   "metadata": {},
   "outputs": [
    {
     "data": {
      "text/plain": [
       "99.0"
      ]
     },
     "execution_count": 39,
     "metadata": {},
     "output_type": "execute_result"
    }
   ],
   "source": [
    "data_range(num_friends)"
   ]
  },
  {
   "cell_type": "code",
   "execution_count": 40,
   "metadata": {},
   "outputs": [],
   "source": [
    "######################################################################################\n",
    "##########    A more complex measure of dispersion of data is variance  ##############\n",
    "######################################################################################\n",
    "\n",
    "def de_mean(xs: List[float]) -> float:\n",
    "    #Subtract mean from each element of xs\n",
    "    x_bar = mean(xs)\n",
    "    return [x-x_bar for x in xs]\n",
    "\n",
    "def variance(xs: List[float]) -> float:\n",
    "    #Almost the average squared deviation from the mean\n",
    "    assert(len(xs)>=2),\"variance requires atleast two elements\"\n",
    "    sum_of_squares = sum(x*x for x in de_mean(xs))\n",
    "    return sum_of_squares/(len(xs)-1)\n",
    "    \n",
    "    "
   ]
  },
  {
   "cell_type": "code",
   "execution_count": 41,
   "metadata": {},
   "outputs": [
    {
     "data": {
      "text/plain": [
       "81.54351395730716"
      ]
     },
     "execution_count": 41,
     "metadata": {},
     "output_type": "execute_result"
    }
   ],
   "source": [
    "variance(num_friends)"
   ]
  },
  {
   "cell_type": "code",
   "execution_count": 42,
   "metadata": {},
   "outputs": [
    {
     "data": {
      "text/plain": [
       "9.03014473623248"
      ]
     },
     "execution_count": 42,
     "metadata": {},
     "output_type": "execute_result"
    }
   ],
   "source": [
    "######################################################################################\n",
    "########## Dispersion of data can also be quantified using standard deviation  #######\n",
    "######################################################################################\n",
    "\n",
    "import math\n",
    "\n",
    "def standard_deviation(xs: List[float]) -> float:\n",
    "    #Standard deviation is the square root of variance\n",
    "    return math.sqrt(variance(xs))\n",
    "\n",
    "standard_deviation(num_friends)"
   ]
  },
  {
   "cell_type": "code",
   "execution_count": 43,
   "metadata": {},
   "outputs": [
    {
     "data": {
      "text/plain": [
       "6"
      ]
     },
     "execution_count": 43,
     "metadata": {},
     "output_type": "execute_result"
    }
   ],
   "source": [
    "######################################################################################\n",
    "###########################   Find interquantile range ################################\n",
    "######################################################################################\n",
    "\n",
    "def interquantile_range(xs: List[float])-> float:\n",
    "    #Returns the difference between the 75%-tile and the 25%-tile\n",
    "    return quantile(xs,0.75) - quantile(xs,0.25)\n",
    "\n",
    "interquantile_range(num_friends)"
   ]
  },
  {
   "cell_type": "code",
   "execution_count": 44,
   "metadata": {},
   "outputs": [],
   "source": [
    "######################################################################################\n",
    "###########################   Find covariance of two vectors #########################\n",
    "######################################################################################\n",
    "daily_minutes = [1,68.77,51.25,52.08,38.36,44.54,57.13,51.4,41.42,31.22,34.76,54.01,38.79,47.59,49.1,27.66,41.03,36.73,48.65,28.12,46.62,35.57,32.98,35,26.07,23.77,39.73,40.57,31.65,31.21,36.32,20.45,21.93,26.02,27.34,23.49,46.94,30.5,33.8,24.23,21.4,27.94,32.24,40.57,25.07,19.42,22.39,18.42,46.96,23.72,26.41,26.97,36.76,40.32,35.02,29.47,30.2,31,38.11,38.18,36.31,21.03,30.86,36.07,28.66,29.08,37.28,15.28,24.17,22.31,30.17,25.53,19.85,35.37,44.6,17.23,13.47,26.33,35.02,32.09,24.81,19.33,28.77,24.26,31.98,25.73,24.86,16.28,34.51,15.23,39.72,40.8,26.06,35.76,34.76,16.13,44.04,18.03,19.65,32.62,35.59,39.43,14.18,35.24,40.13,41.82,35.45,36.07,43.67,24.61,20.9,21.9,18.79,27.61,27.21,26.61,29.77,20.59,27.53,13.82,33.2,25,33.1,36.65,18.63,14.87,22.2,36.81,25.53,24.62,26.25,18.21,28.08,19.42,29.79,32.8,35.99,28.32,27.79,35.88,29.06,36.28,14.1,36.63,37.49,26.9,18.58,38.48,24.48,18.95,33.55,14.24,29.04,32.51,25.63,22.22,19,32.73,15.16,13.9,27.2,32.01,29.27,33,13.74,20.42,27.32,18.23,35.35,28.48,9.08,24.62,20.12,35.26,19.92,31.02,16.49,12.16,30.7,31.22,34.65,13.13,27.51,33.2,31.57,14.1,33.42,17.44,10.12,24.42,9.82,23.39,30.93,15.03,21.67,31.09,33.29,22.61,26.89,23.48,8.38,27.81,32.35,23.84]\n",
    "\n",
    "def covariance(xs: List[float], ys: List[float])-> float:\n",
    "    sum_of_squares = sum(x*y for x,y in zip(de_mean(xs),de_mean(ys)))\n",
    "    return sum_of_squares/(len(xs)-1)"
   ]
  },
  {
   "cell_type": "code",
   "execution_count": 45,
   "metadata": {},
   "outputs": [
    {
     "data": {
      "text/plain": [
       "22.425435139573064"
      ]
     },
     "execution_count": 45,
     "metadata": {},
     "output_type": "execute_result"
    }
   ],
   "source": [
    "covariance(num_friends,daily_minutes)"
   ]
  },
  {
   "cell_type": "code",
   "execution_count": 46,
   "metadata": {},
   "outputs": [],
   "source": [
    "######################################################################################\n",
    "############## Correlation is unitless and always lies between #######################\n",
    "################-1 (perfect anticorrelation) & 1 (perfect correlation)################\n",
    "######################################################################################\n",
    "\n",
    "def correlation(xs: List[float], ys: List[float])-> float:\n",
    "    stdev_x = standard_deviation(xs)\n",
    "    stdev_y = standard_deviation(ys)\n",
    "    if stdev_x>0 and stdev_y>0:\n",
    "        return covariance(xs,ys)/stdev_x/stdev_y\n",
    "    else:\n",
    "        return 0"
   ]
  },
  {
   "cell_type": "code",
   "execution_count": 47,
   "metadata": {},
   "outputs": [
    {
     "data": {
      "text/plain": [
       "0.24736957366478218"
      ]
     },
     "execution_count": 47,
     "metadata": {},
     "output_type": "execute_result"
    }
   ],
   "source": [
    "correlation(num_friends,daily_minutes)"
   ]
  },
  {
   "cell_type": "code",
   "execution_count": 48,
   "metadata": {},
   "outputs": [
    {
     "data": {
      "image/png": "[encoded data removed]",
      "text/plain": [
       "<Figure size 432x288 with 1 Axes>"
      ]
     },
     "metadata": {
      "needs_background": "light"
     },
     "output_type": "display_data"
    }
   ],
   "source": [
    "######################################################################################\n",
    "######################  Plot distribution of the data ################################\n",
    "######################################################################################\n",
    "\n",
    "from matplotlib import pyplot as plt\n",
    "plt.figure()\n",
    "plt.scatter(num_friends,daily_minutes,color='red',marker = '.')\n",
    "plt.title(\"Correlation with an outlier\")#Title\n",
    "plt.ylabel(\"minutes per day\")#Adding label to the y-axis\n",
    "plt.xlabel(\"# of friends\")#Adding label to the x-axis\n",
    "plt.show()"
   ]
  },
  {
   "cell_type": "code",
   "execution_count": 49,
   "metadata": {},
   "outputs": [
    {
     "data": {
      "image/png": "[encoded data removed]",
      "text/plain": [
       "<Figure size 432x288 with 1 Axes>"
      ]
     },
     "metadata": {
      "needs_background": "light"
     },
     "output_type": "display_data"
    }
   ],
   "source": [
    "# Correlation is very sensitive to outliers\n",
    "# Remove outlier\n",
    "\n",
    "outlier = num_friends.index(100) #Index of the outlier\n",
    "\n",
    "num_friends_good = [x\n",
    "                   for i, x in enumerate(num_friends)# i(index) and x(value)\n",
    "                   if i!=outlier]\n",
    "daily_minutes_good = [x\n",
    "                   for i, x in enumerate(daily_minutes)# i(index) and x(value)\n",
    "                   if i!=outlier]\n",
    "\n",
    "daily_hours_good = [dm/60 for dm in daily_minutes_good]\n",
    "\n",
    "plt.figure()\n",
    "plt.scatter(num_friends_good,daily_minutes_good,color='red',marker = '.')\n",
    "plt.title(\"Correlation with an outlier\")#Title\n",
    "plt.ylabel(\"minutes per day\")#Adding label to the y-axis\n",
    "plt.xlabel(\"# of friends\")#Adding label to the x-axis\n",
    "plt.show()\n"
   ]
  }
 ],
 "metadata": {
  "kernelspec": {
   "display_name": "Python 3",
   "language": "python",
   "name": "python3"
  },
  "language_info": {
   "codemirror_mode": {
    "name": "ipython",
    "version": 3
   },
   "file_extension": ".py",
   "mimetype": "text/x-python",
   "name": "python",
   "nbconvert_exporter": "python",
   "pygments_lexer": "ipython3",
   "version": "3.7.0"
  }
 },
 "nbformat": 4,
 "nbformat_minor": 2
}
