{
 "cells": [
  {
   "cell_type": "markdown",
   "metadata": {},
   "source": [
    "# Neural Network"
   ]
  },
  {
   "cell_type": "code",
   "execution_count": 68,
   "metadata": {},
   "outputs": [],
   "source": [
    "from Vector_operations_on_data import Vector, dot\n",
    "\n",
    "def step_function(x: float) -> float:\n",
    "        return 1.0 if x>=0 else 0.0\n",
    "    \n",
    "def perceptron_output(weights: Vector, bias: float, x: Vector) -> float:\n",
    "    # Returns 1 if the perceptron 'fires, 0 if not\n",
    "    return (step_function(dot(weights,x)+bias))"
   ]
  },
  {
   "cell_type": "code",
   "execution_count": 69,
   "metadata": {},
   "outputs": [
    {
     "name": "stdout",
     "output_type": "stream",
     "text": [
      "1.0\n",
      "0.0\n",
      "0.0\n",
      "0.0\n"
     ]
    }
   ],
   "source": [
    "# AND gate\n",
    "and_weights = [2., 2.]\n",
    "and_bias = -3\n",
    "print(perceptron_output(and_weights, and_bias, [1, 1]))\n",
    "print(perceptron_output(and_weights, and_bias, [0, 1])) \n",
    "print(perceptron_output(and_weights, and_bias, [1, 0])) \n",
    "print(perceptron_output(and_weights, and_bias, [0, 0]))"
   ]
  },
  {
   "cell_type": "code",
   "execution_count": 70,
   "metadata": {},
   "outputs": [
    {
     "name": "stdout",
     "output_type": "stream",
     "text": [
      "1.0\n",
      "1.0\n",
      "1.0\n",
      "0.0\n"
     ]
    }
   ],
   "source": [
    "# OR gate\n",
    "and_weights = [2., 2.]\n",
    "and_bias = -1\n",
    "print(perceptron_output(and_weights, and_bias, [1, 1]))\n",
    "print(perceptron_output(and_weights, and_bias, [0, 1])) \n",
    "print(perceptron_output(and_weights, and_bias, [1, 0])) \n",
    "print(perceptron_output(and_weights, and_bias, [0, 0]))"
   ]
  },
  {
   "cell_type": "code",
   "execution_count": 71,
   "metadata": {},
   "outputs": [
    {
     "name": "stdout",
     "output_type": "stream",
     "text": [
      "1.0\n",
      "0.0\n"
     ]
    }
   ],
   "source": [
    "# NOT gate\n",
    "and_weights = [-2.]\n",
    "and_bias = 1\n",
    "print(perceptron_output(and_weights, and_bias, [0]))\n",
    "print(perceptron_output(and_weights, and_bias, [1])) \n"
   ]
  },
  {
   "cell_type": "code",
   "execution_count": 72,
   "metadata": {},
   "outputs": [
    {
     "data": {
      "image/png": "[encoded data removed]",
      "text/plain": [
       "<Figure size 432x288 with 1 Axes>"
      ]
     },
     "metadata": {
      "needs_background": "light"
     },
     "output_type": "display_data"
    }
   ],
   "source": [
    "import math\n",
    "\n",
    "def sigmoid(t: float) -> float:\n",
    "    return 1/(1+math.exp(-t))\n",
    "\n",
    "t = [i for i in range(-20,21,1)]\n",
    "sigmoid_t = [sigmoid(x) for x in t]\n",
    "step_t = [step_function(x) for x in t]\n",
    "\n",
    "import matplotlib.pyplot as plt\n",
    "plt.plot(t, sigmoid_t, label = 'sigmoid')\n",
    "plt.plot(t, step_t, 'm--', label = 'step function')\n",
    "plt.legend()\n",
    "plt.show()"
   ]
  },
  {
   "cell_type": "code",
   "execution_count": 73,
   "metadata": {},
   "outputs": [],
   "source": [
    "def neuron_output(weights:Vector, inputs: Vector) -> float:\n",
    "    return sigmoid(dot(weights, inputs))\n",
    "\n",
    "from typing import List\n",
    "\n",
    "def feed_forward(neural_network: List[List[Vector]],\n",
    "                input_vector: Vector) -> List[Vector]:\n",
    "    \n",
    "    \"\"\"Feeds the input vector through the neural network.\n",
    "    Returns the outputs of all layers (not just the last one).\"\"\"\n",
    "    \n",
    "    outputs: List[Vector] = []\n",
    "        \n",
    "    for layer in neural_network:\n",
    "        input_with_bias = input_vector + [1.0] # Adds a constant for bias\n",
    "        output = [neuron_output(input_with_bias, neuron)\n",
    "                 for neuron in layer]\n",
    "        outputs.append(output)\n",
    "        \n",
    "        # Then the input to the next layer is the output of this layer\n",
    "        input_vector = output\n",
    "        \n",
    "    return outputs"
   ]
  },
  {
   "cell_type": "code",
   "execution_count": 74,
   "metadata": {},
   "outputs": [
    {
     "name": "stdout",
     "output_type": "stream",
     "text": [
      "[[9.357622968839299e-14, 0.9999999999999065], [0.9999999999999065]]\n",
      "[[4.5397868702434395e-05, 0.9999546021312976], [0.9999999999999059]]\n",
      "[[1.928749847963918e-22, 0.9999546021312976], [0.9999999999999061]]\n",
      "[[9.357622968839299e-14, 4.5397868702434395e-05], [9.38314668300676e-14]]\n"
     ]
    }
   ],
   "source": [
    "xor_network = [# hidden layer\n",
    "              [[-20., 20, -30], # 'and neuron'\n",
    "              [20., 20, -10]],   # 'or neuron'\n",
    "              # Output layer\n",
    "              [[-60., 60., -30.]]]\n",
    "\n",
    "print(feed_forward(xor_network, [1, 1]))\n",
    "print(feed_forward(xor_network, [0, 1]))\n",
    "print(feed_forward(xor_network, [1, 0]))\n",
    "print(feed_forward(xor_network, [0, 0]))"
   ]
  },
  {
   "cell_type": "code",
   "execution_count": 75,
   "metadata": {},
   "outputs": [],
   "source": [
    "# Backpropagation\n",
    "def sqerror_gradients(network: List[List[Vector]],\n",
    "                     input_vector: Vector,\n",
    "                     target_vector: Vector) -> List[List[Vector]]:\n",
    "    \"\"\"Given a neural network, an input vector and a target vector,\n",
    "    makes a prediction and computes the gradient of squared error loss\n",
    "    with respect to the neuron weights.\"\"\"\n",
    "    \n",
    "    # forward pass\n",
    "    hidden_outputs, outputs = feed_forward(network, input_vector)\n",
    "    \n",
    "    # gradients  with respect to output neuron pre-activation outputs\n",
    "    output_deltas = [output*(1-output)*(output-target)\n",
    "                    for output, target in zip(outputs, target_vector)]\n",
    "\n",
    "    # gradients with respect to output neuron weights\n",
    "    output_grads = [[output_deltas[i] * hidden_output\n",
    "                    for hidden_output in hidden_outputs + [1]]\n",
    "                    for i, output_neuron in enumerate(network[-1])]\n",
    "    \n",
    "    # gradients with respect to hidden neuron pre-activation outputs\n",
    "    hidden_deltas = [hidden_output*(1-hidden_output)*\n",
    "                     dot(output_deltas,[n[i] for n in network[-1]])\n",
    "                    for i, hidden_output in enumerate(hidden_outputs)]\n",
    "\n",
    "    # gradients with respect to hidden neuron weights\n",
    "    hidden_grads = [[hidden_deltas[i] * input for input in input_vector + [1]]\n",
    "                   for i, hidden_neuron in enumerate(network[0])]\n",
    "    \n",
    "    return [hidden_grads, output_grads]"
   ]
  },
  {
   "cell_type": "code",
   "execution_count": 76,
   "metadata": {},
   "outputs": [
    {
     "name": "stderr",
     "output_type": "stream",
     "text": [
      "neural net for xor: 100%|█████████████████████████████████████████████████████| 20000/20000 [00:01<00:00, 13422.79it/s]\n"
     ]
    }
   ],
   "source": [
    "# Train neural network for XOR operation\n",
    "\n",
    "import random\n",
    "random.seed(0)\n",
    "\n",
    "# training data\n",
    "xs = [[0.,0.],[0.,1.],[1.,0.],[1.,1.]]\n",
    "ys = [[0.], [1.], [1.], [0.]]\n",
    "\n",
    "# start with random weights\n",
    "network = [# hidden layer: 2 inputs -> 2 outputs\n",
    "            [[random.random() for _ in range(2 + 1)], # 1st hidden neuron\n",
    "            [random.random() for _ in range(2 + 1)]], # 2nd hidden neuron\n",
    "            # output layer: 2 inputs -> 1 output\n",
    "            [[random.random() for _ in range(2 + 1)]] # 1st output neuron\n",
    "            ]\n",
    "\n",
    "from gradient_descent import gradient_step;\n",
    "\n",
    "learning_rate = 1.0\n",
    "\n",
    "import tqdm\n",
    "\n",
    "for epoch in tqdm.trange(20000, desc = \"neural net for xor\"):\n",
    "    for x,y in zip(xs, ys):\n",
    "        gradients = sqerror_gradients(network, x, y)\n",
    "        \n",
    "        # Take a gradient step for each neuron in the layer\n",
    "        network = [[gradient_step(neuron, grad, -learning_rate)\n",
    "                   for neuron, grad in zip(layer, layer_grad)]\n",
    "                  for layer, layer_grad in zip(network, gradients)]"
   ]
  },
  {
   "cell_type": "code",
   "execution_count": 77,
   "metadata": {},
   "outputs": [
    {
     "data": {
      "text/plain": [
       "[[[6.953505610104289, 6.952785792366962, -3.1484761965046655],\n",
       "  [5.115899442661922, 5.115407875835949, -7.839603434415663]],\n",
       " [[10.961705832630562, -11.63060534664317, -5.144229056613082]]]"
      ]
     },
     "execution_count": 77,
     "metadata": {},
     "output_type": "execute_result"
    }
   ],
   "source": [
    "network"
   ]
  },
  {
   "cell_type": "code",
   "execution_count": 78,
   "metadata": {},
   "outputs": [
    {
     "name": "stdout",
     "output_type": "stream",
     "text": [
      "feed_forward(network, [0,0])[-1][0] = 0.009033699537611711\n",
      "feed_forward(network, [0,1])[-1][0] = 0.9923292625479107\n",
      "feed_forward(network, [1,0])[-1][0] = 0.9923280275107558\n",
      "feed_forward(network, [1,1])[-1][0] = 0.00785569546822803\n"
     ]
    }
   ],
   "source": [
    "print(f\"feed_forward(network, [0,0])[-1][0] = {feed_forward(network, [0,0])[-1][0]}\")\n",
    "print(f\"feed_forward(network, [0,1])[-1][0] = {feed_forward(network, [0,1])[-1][0]}\")\n",
    "print(f\"feed_forward(network, [1,0])[-1][0] = {feed_forward(network, [1,0])[-1][0]}\")\n",
    "print(f\"feed_forward(network, [1,1])[-1][0] = {feed_forward(network, [1,1])[-1][0]}\")"
   ]
  },
  {
   "cell_type": "markdown",
   "metadata": {},
   "source": [
    "# Fizz Buzz problem\n",
    "# If a number is\n",
    "     divisible by 3 -> print \"fizz\"\n",
    "     divisible by 5 -> print \"buzz\"\n",
    "     divisible by 15 -> print \"fizzbuzz\"\n",
    "\n",
    "    \n"
   ]
  },
  {
   "cell_type": "code",
   "execution_count": 79,
   "metadata": {},
   "outputs": [
    {
     "name": "stdout",
     "output_type": "stream",
     "text": [
      "[1, 0, 0, 0]\n",
      "[0, 1, 0, 0]\n",
      "[0, 0, 1, 0]\n",
      "[0, 0, 0, 1]\n"
     ]
    }
   ],
   "source": [
    "def fizz_buzz_encode(x: int) -> Vector:\n",
    "    if x % 15 == 0:\n",
    "        return [0,0,0,1]\n",
    "    elif x % 5 == 0:\n",
    "        return [0,0,1,0]\n",
    "    elif x % 3 == 0:\n",
    "        return [0,1,0,0]\n",
    "    else:\n",
    "        return [1,0,0,0]\n",
    "    \n",
    "print(fizz_buzz_encode(2))\n",
    "print(fizz_buzz_encode(6))\n",
    "print(fizz_buzz_encode(25))\n",
    "print(fizz_buzz_encode(45))"
   ]
  },
  {
   "cell_type": "code",
   "execution_count": 80,
   "metadata": {},
   "outputs": [
    {
     "data": {
      "text/plain": [
       "[1, 1, 0, 0, 0, 0, 0, 0, 0, 0]"
      ]
     },
     "execution_count": 80,
     "metadata": {},
     "output_type": "execute_result"
    }
   ],
   "source": [
    "def binary_encode(x: int) -> Vector:\n",
    "    binary: List[float] = []\n",
    "        \n",
    "    for i in range(10):\n",
    "        binary.append(x%2)\n",
    "        x = x // 2\n",
    "    return binary\n",
    "\n",
    "binary_encode(3)"
   ]
  },
  {
   "cell_type": "code",
   "execution_count": 81,
   "metadata": {},
   "outputs": [],
   "source": [
    "xs = [binary_encode(n) for n in range(101,1024)] #Training data\n",
    "ys = [fizz_buzz_encode(n) for n in range(101, 1024)] #Training labels\n",
    "\n",
    "NUM_HIDDEN = 25 # Number of hidden neurons\n",
    "\n",
    "network = [# hidden layers: 10 inputs -> NUM_HIDDEN outputs\n",
    "    [[random.random() for _ in range(10 + 1)] for _ in range(NUM_HIDDEN)],\n",
    "    # Output_layer: NUM_HIDDEN inputs -> 4 outputs\n",
    "    [[random.random() for _ in range(NUM_HIDDEN + 1)] for _ in range(4)]]\n"
   ]
  },
  {
   "cell_type": "code",
   "execution_count": 82,
   "metadata": {},
   "outputs": [
    {
     "name": "stderr",
     "output_type": "stream",
     "text": [
      "fizz buzz (loss: 29.530351073679007): 100%|██████████████████████████████████████████| 500/500 [02:13<00:00,  3.25it/s]\n"
     ]
    }
   ],
   "source": [
    "from Vector_operations_on_data import squared_distance\n",
    "\n",
    "learning_rate = 1.0\n",
    "\n",
    "with tqdm.trange(500) as t:\n",
    "    for epoch in t:\n",
    "        epoch_loss = 0.0\n",
    "        \n",
    "        for x,y in zip(xs, ys):\n",
    "            predicted = feed_forward(network, x)[-1]\n",
    "            epoch_loss += squared_distance(predicted, y)\n",
    "            gradients = sqerror_gradients(network, x, y)\n",
    "            \n",
    "            # Take gradient step for each neuron in each layer\n",
    "            network = [[gradient_step(neuron, grad, -learning_rate)\n",
    "                       for neuron, grad in zip(layer, layer_grad)]\n",
    "                      for layer, layer_grad in zip(network, gradients)]\n",
    "            \n",
    "        t.set_description(f\"fizz buzz (loss: {epoch_loss})\")"
   ]
  },
  {
   "cell_type": "code",
   "execution_count": 83,
   "metadata": {},
   "outputs": [
    {
     "name": "stdout",
     "output_type": "stream",
     "text": [
      "1 1 1\n",
      "2 2 2\n",
      "3 fizz fizz\n",
      "4 4 4\n",
      "5 buzz buzz\n",
      "6 fizz fizz\n",
      "7 7 7\n",
      "8 8 8\n",
      "9 fizz fizz\n",
      "10 buzz buzz\n",
      "11 11 11\n",
      "12 fizz fizz\n",
      "13 13 13\n",
      "14 14 14\n",
      "15 fizzbuzz fizzbuzz\n",
      "16 16 16\n",
      "17 17 17\n",
      "18 fizz fizz\n",
      "19 19 19\n",
      "20 20 buzz\n",
      "21 fizz fizz\n",
      "22 22 22\n",
      "23 23 23\n",
      "24 fizz fizz\n",
      "25 buzz buzz\n",
      "26 26 26\n",
      "27 fizz fizz\n",
      "28 28 28\n",
      "29 29 29\n",
      "30 fizzbuzz fizzbuzz\n",
      "31 31 31\n",
      "32 32 32\n",
      "33 fizz fizz\n",
      "34 34 34\n",
      "35 buzz buzz\n",
      "36 fizz fizz\n",
      "37 37 37\n",
      "38 38 38\n",
      "39 fizz fizz\n",
      "40 buzz buzz\n",
      "41 41 41\n",
      "42 fizz fizz\n",
      "43 43 43\n",
      "44 44 44\n",
      "45 fizzbuzz fizzbuzz\n",
      "46 46 46\n",
      "47 47 47\n",
      "48 fizz fizz\n",
      "49 49 49\n",
      "50 buzz buzz\n",
      "51 fizz fizz\n",
      "52 52 52\n",
      "53 53 53\n",
      "54 fizz fizz\n",
      "55 buzz buzz\n",
      "56 56 56\n",
      "57 fizz fizz\n",
      "58 58 58\n",
      "59 59 59\n",
      "60 fizzbuzz fizzbuzz\n",
      "61 61 61\n",
      "62 62 62\n",
      "63 fizz fizz\n",
      "64 64 64\n",
      "65 buzz buzz\n",
      "66 fizz fizz\n",
      "67 67 67\n",
      "68 68 68\n",
      "69 fizz fizz\n",
      "70 buzz buzz\n",
      "71 71 71\n",
      "72 fizz fizz\n",
      "73 73 73\n",
      "74 74 74\n",
      "75 fizzbuzz fizzbuzz\n",
      "76 76 76\n",
      "77 77 77\n",
      "78 fizz fizz\n",
      "79 79 79\n",
      "80 80 buzz\n",
      "81 fizz fizz\n",
      "82 82 82\n",
      "83 83 83\n",
      "84 fizz fizz\n",
      "85 fizz buzz\n",
      "86 86 86\n",
      "87 fizz fizz\n",
      "88 88 88\n",
      "89 89 89\n",
      "90 fizzbuzz fizzbuzz\n",
      "91 91 91\n",
      "92 92 92\n",
      "93 fizz fizz\n",
      "94 94 94\n",
      "95 fizz buzz\n",
      "96 fizz fizz\n",
      "97 97 97\n",
      "98 98 98\n",
      "99 fizz fizz\n",
      "100 buzz buzz\n",
      "96 / 100\n"
     ]
    }
   ],
   "source": [
    "def argmax(xs: list) -> int:\n",
    "    \"\"\"Returns the index of the largest value\"\"\"\n",
    "    return max(range(len(xs)), key = lambda i: xs[i])\n",
    "\n",
    "\n",
    "num_correct = 0\n",
    "\n",
    "## Testing\n",
    "for n in range(1,101):\n",
    "    x = binary_encode(n)\n",
    "    predicted = argmax(feed_forward(network, x)[-1])\n",
    "    actual = argmax(fizz_buzz_encode(n))\n",
    "    labels = [str(n), \"fizz\",\"buzz\",\"fizzbuzz\"]\n",
    "    print(n, labels[predicted], labels[actual])\n",
    "    \n",
    "    if predicted == actual:\n",
    "        num_correct += 1\n",
    "        \n",
    "print(num_correct, \"/\", 100)"
   ]
  }
 ],
 "metadata": {
  "kernelspec": {
   "display_name": "Python 3",
   "language": "python",
   "name": "python3"
  },
  "language_info": {
   "codemirror_mode": {
    "name": "ipython",
    "version": 3
   },
   "file_extension": ".py",
   "mimetype": "text/x-python",
   "name": "python",
   "nbconvert_exporter": "python",
   "pygments_lexer": "ipython3",
   "version": "3.7.0"
  }
 },
 "nbformat": 4,
 "nbformat_minor": 2
}
