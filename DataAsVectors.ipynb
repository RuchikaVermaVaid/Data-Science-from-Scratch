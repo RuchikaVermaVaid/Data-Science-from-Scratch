{
 "cells": [
  {
   "cell_type": "code",
   "execution_count": 10,
   "metadata": {},
   "outputs": [],
   "source": [
    "\"\"\"\n",
    "Created on Tue Jun 25 14:42:39 2019\n",
    "\n",
    "@author: Ruchika\n",
    "\"\"\"\n",
    "from typing import List"
   ]
  },
  {
   "cell_type": "code",
   "execution_count": 11,
   "metadata": {},
   "outputs": [],
   "source": [
    "#List of numbers as vectors\n",
    "Vector = List[float]\n",
    "\n",
    "#3-dimensional vector\n",
    "height_weight_age = [70, #inches\n",
    "                     170, #pounds,\n",
    "                     40] #years\n",
    "#4-dimensional vector\n",
    "grades = [95, #exam1\n",
    "          80, #exam2\n",
    "          75, #exam3\n",
    "          62] #exam4\n"
   ]
  },
  {
   "cell_type": "code",
   "execution_count": 12,
   "metadata": {},
   "outputs": [],
   "source": [
    "######################################################################################\n",
    "########################### Adding two vectors v & w #################################\n",
    "######################################################################################\n",
    "\n",
    "def add(v: Vector, w: Vector)-> Vector:\n",
    "    assert len(v) == len(w) #vectors must be the same length\n",
    "    return [v_i + w_i for v_i,w_i in zip(v,w)]\n",
    "    \n",
    "#Check if the function works correctly    \n",
    "assert add([1,2,3],[4,5,6])==[5,7,9]"
   ]
  },
  {
   "cell_type": "code",
   "execution_count": 13,
   "metadata": {},
   "outputs": [
    {
     "name": "stdout",
     "output_type": "stream",
     "text": [
      "[5, 7, 9]\n"
     ]
    }
   ],
   "source": [
    "#Call function\n",
    "print(add([1,2,3],[4,5,6]))"
   ]
  },
  {
   "cell_type": "code",
   "execution_count": 14,
   "metadata": {},
   "outputs": [
    {
     "data": {
      "text/plain": [
       "[1, 2, 3]"
      ]
     },
     "execution_count": 14,
     "metadata": {},
     "output_type": "execute_result"
    }
   ],
   "source": [
    "######################################################################################\n",
    "#######################  Subtract two vectors: subtract w from v #####################\n",
    "######################################################################################\n",
    "\n",
    "def subtract(v: Vector, w: Vector)-> Vector:\n",
    "    assert len(v) == len(w) #vectors must be the same length\n",
    "    return [v_i - w_i for v_i,w_i in zip(v,w)]#Subtract only the corresponding elemments\n",
    " \n",
    "#Call function    \n",
    "subtract([5,7,9],[4,5,6])"
   ]
  },
  {
   "cell_type": "code",
   "execution_count": 15,
   "metadata": {},
   "outputs": [],
   "source": [
    "######################################################################################\n",
    "########################## Adds all corresponding elements ###########################\n",
    "######################################################################################\n",
    "\n",
    "def vector_sum(vectors: List[Vector])-> Vector:\n",
    "    #Check vectors are not empty\n",
    "    assert vectors, \"no vectors provided\"\n",
    "    \n",
    "     #Check all vectors are of the same size\n",
    "    num_elements = len(vectors[0]) #Number of columns\n",
    "    assert all(len(v) == num_elements for v in vectors), \"different sizes!\"\n",
    "\n",
    "    #The ith vector of sum is the sum of every vector[i]\n",
    "    return [sum(vector[i] for vector in vectors)\n",
    "            for i in range(num_elements)]\n",
    "    \n",
    " \n",
    "assert vector_sum([[1,2],[3,4],[7,8],[5,6]])== [16,20]\n",
    "\n"
   ]
  },
  {
   "cell_type": "code",
   "execution_count": 16,
   "metadata": {},
   "outputs": [
    {
     "data": {
      "text/plain": [
       "[16, 20]"
      ]
     },
     "execution_count": 16,
     "metadata": {},
     "output_type": "execute_result"
    }
   ],
   "source": [
    "#Call function\n",
    "vector_sum([[1,2],[3,4],[7,8],[5,6]])"
   ]
  },
  {
   "cell_type": "code",
   "execution_count": 17,
   "metadata": {},
   "outputs": [],
   "source": [
    "######################################################################################\n",
    "######################### Multiplication of a scalar with vector #####################\n",
    "######################################################################################\n",
    "\n",
    "def scalar_multiply(c:float, v:Vector) -> Vector:\n",
    "    #Multiply every element by c\n",
    "    return [c*v_i for v_i in v]\n",
    "\n",
    "assert scalar_multiply(2, [1,2,3])==[2,4,6]"
   ]
  },
  {
   "cell_type": "code",
   "execution_count": 18,
   "metadata": {},
   "outputs": [
    {
     "data": {
      "text/plain": [
       "[2, 4, 6]"
      ]
     },
     "execution_count": 18,
     "metadata": {},
     "output_type": "execute_result"
    }
   ],
   "source": [
    "#Call function\n",
    "scalar_multiply(2, [1,2,3])"
   ]
  },
  {
   "cell_type": "code",
   "execution_count": 19,
   "metadata": {},
   "outputs": [
    {
     "data": {
      "text/plain": [
       "[3.0, 4.0]"
      ]
     },
     "execution_count": 19,
     "metadata": {},
     "output_type": "execute_result"
    }
   ],
   "source": [
    "######################################################################################\n",
    "########################### Componentwise mean of a vector ###########################\n",
    "######################################################################################\n",
    "\n",
    "def vector_mean(vectors:List[Vector])-> Vector:\n",
    "    #Computes the element wise average\n",
    "    n = len(vectors)\n",
    "    return scalar_multiply(1/n,vector_sum(vectors))\n",
    "\n",
    "#Call function \n",
    "vector_mean([[1,2],[3,4],[5,6]])"
   ]
  },
  {
   "cell_type": "code",
   "execution_count": 20,
   "metadata": {},
   "outputs": [
    {
     "data": {
      "text/plain": [
       "32"
      ]
     },
     "execution_count": 20,
     "metadata": {},
     "output_type": "execute_result"
    }
   ],
   "source": [
    "######################################################################################\n",
    "######################################## Dot product  ################################\n",
    "######################################################################################\n",
    "\n",
    "def dot(v:Vector, w:Vector)-> float:\n",
    "    #Computes v_1*w_1+ ......+v_n*w_n\n",
    "    assert len(v) == len(w), \"vectors must be of same length\"\n",
    "    return sum(v_i * w_i for v_i, w_i in zip (v,w))\n",
    "\n",
    "    \n",
    "#Call function \n",
    "dot ([1,2,3],[4,5,6])"
   ]
  },
  {
   "cell_type": "code",
   "execution_count": 21,
   "metadata": {},
   "outputs": [
    {
     "name": "stdout",
     "output_type": "stream",
     "text": [
      "14\n"
     ]
    }
   ],
   "source": [
    "######################################################################################\n",
    "############################  Vectors sum of squares #################################\n",
    "######################################################################################\n",
    "\n",
    "def sum_of_squares(v:Vector)-> float:\n",
    "    #Computes v_1*w_1+ ......+v_n*w_n\n",
    "    return dot(v,v)\n",
    "\n",
    "#Call function  \n",
    "print(sum_of_squares([1,2,3]))"
   ]
  },
  {
   "cell_type": "code",
   "execution_count": 22,
   "metadata": {},
   "outputs": [
    {
     "name": "stdout",
     "output_type": "stream",
     "text": [
      "3.7416573867739413\n"
     ]
    }
   ],
   "source": [
    "######################################################################################\n",
    "############################ Magnitude of a vector  #################################\n",
    "######################################################################################\n",
    "    \n",
    "import math\n",
    "def magnitude(v:Vector) -> float:\n",
    "    #Returns the magnitude (or length) of v\n",
    "    return math.sqrt(sum_of_squares(v))\n",
    "\n",
    "#Call function  \n",
    "print(magnitude([1,2,3]))\n"
   ]
  },
  {
   "cell_type": "code",
   "execution_count": 23,
   "metadata": {},
   "outputs": [
    {
     "name": "stdout",
     "output_type": "stream",
     "text": [
      "27\n"
     ]
    }
   ],
   "source": [
    "######################################################################################\n",
    "######################### Squared distance between two vectors  ######################\n",
    "######################################################################################\n",
    "\n",
    "def squared_distance(v:Vector, w:Vector) -> float:\n",
    "    #Computes (v_1 - w_1)**2 +.....+(v_n - w_n)**2\n",
    "    return sum_of_squares(subtract(v,w))\n",
    "\n",
    "#Call function  \n",
    "print(squared_distance([1,2,3],[4,5,6]))"
   ]
  },
  {
   "cell_type": "code",
   "execution_count": 24,
   "metadata": {},
   "outputs": [
    {
     "name": "stdout",
     "output_type": "stream",
     "text": [
      "5.196152422706632\n"
     ]
    }
   ],
   "source": [
    "######################################################################################\n",
    "######################### L2 distance between two vectors  #############################\n",
    "######################################################################################\n",
    "\n",
    "def distance(v:Vector, w:Vector) -> float:\n",
    "    #Computes the distance between v and w\n",
    "    return math.sqrt(sum_of_squares(subtract(v,w)))\n",
    "\n",
    "#Call function  \n",
    "print(distance([1,2,3],[4,5,6]))"
   ]
  }
 ],
 "metadata": {
  "kernelspec": {
   "display_name": "Python 3",
   "language": "python",
   "name": "python3"
  },
  "language_info": {
   "codemirror_mode": {
    "name": "ipython",
    "version": 3
   },
   "file_extension": ".py",
   "mimetype": "text/x-python",
   "name": "python",
   "nbconvert_exporter": "python",
   "pygments_lexer": "ipython3",
   "version": "3.7.0"
  }
 },
 "nbformat": 4,
 "nbformat_minor": 2
}
