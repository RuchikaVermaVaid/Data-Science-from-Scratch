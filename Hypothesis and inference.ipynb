{
 "cells": [
  {
   "cell_type": "code",
   "execution_count": 48,
   "metadata": {},
   "outputs": [],
   "source": [
    "######################################################################################\n",
    "########################### Binomial distribution   #################################\n",
    "######################################################################################\n",
    "\n",
    "from typing import Tuple\n",
    "import math\n",
    "\n",
    "def normal_approximation_to_binomial(n:int,p:float)-> Tuple[float,float]:\n",
    "    #Returns mu and sigma corresponding to a Binomial (n,p)\n",
    "    mu = n*p\n",
    "    sigma = math.sqrt(p*(1-p)*n)\n",
    "    return mu, sigma\n"
   ]
  },
  {
   "cell_type": "code",
   "execution_count": 49,
   "metadata": {},
   "outputs": [],
   "source": [
    "######################################################################################\n",
    "#Finding whether probability of a value lies within or outside a particular interval #\n",
    "######################################################################################\n",
    "\n",
    "from Probability import normal_cdf\n",
    "\n",
    "# Normal cdf is the probability that the variable is below the threshold\n",
    "normal_probability_below = normal_cdf\n",
    "\n",
    "#It is above the threshold if it's not below the threshold\n",
    "def normal_probability_above(lo:float,\n",
    "                            mu: float=0,\n",
    "                            sigma: float =1)-> float:\n",
    "    # The probability that an N(mu,sigma) is greater than lo.\n",
    "    return 1-normal_cdf(lo, mu, sigma)\n",
    "\n",
    "#It is between if it's less than hi but above lo\n",
    "def normal_probability_between(lo:float,\n",
    "                               hi: float,\n",
    "                               mu: float=0,\n",
    "                               sigma: float =1)-> float:\n",
    "    # The probability that an N(mu,sigma) is between lo and hi.\n",
    "    return normal_cdf(hi, mu, sigma)-normal_cdf(lo, mu, sigma)\n",
    "\n",
    "#It's outside if not between\n",
    "def normal_probability_outside(lo:float,\n",
    "                              hi:float,\n",
    "                              mu:float = 0,\n",
    "                              sigma: float = 1) -> float:\n",
    "     # The probability that an N(mu,sigma) is not between lo and hi.\n",
    "        return 1-normal_probability_between(lo,hi, mu, sigma)\n",
    "        \n",
    "    "
   ]
  },
  {
   "cell_type": "code",
   "execution_count": 50,
   "metadata": {},
   "outputs": [],
   "source": [
    "######################################################################################\n",
    "#####################   Find z when P(Z<=z) or P(Z>=z) or P(Z~=z)    #################\n",
    "######################################################################################\n",
    "\n",
    "from Probability import inverse_normal_cdf\n",
    "\n",
    "def normal_upper_bound(probability:float,\n",
    "                      mu:float = 0,\n",
    "                      sigma: float = 1)-> float:\n",
    "    # Returns the z for which P(Z<=z) = probability\n",
    "    return inverse_normal_cdf(probability, mu, sigma)\n",
    "\n",
    "def normal_lower_bound(probability:float,\n",
    "                      mu:float = 0,\n",
    "                      sigma: float = 1)-> float:\n",
    "    # Returns the z for which P(Z>=z) = probability\n",
    "    return inverse_normal_cdf(1-probability, mu, sigma)\n",
    "\n",
    "def normal_two_sided_bounds(probability:float,\n",
    "                      mu:float = 0,\n",
    "                      sigma: float = 1)-> Tuple[float,float]:\n",
    "    #Returns the symmetric (about) the means) bounds that contain the specified probability\n",
    "    tail_probability = (1-probability)/2\n",
    "    \n",
    "    #Upper bound should have tail probability above it\n",
    "    upper_bound = normal_lower_bound(tail_probability,mu,sigma)\n",
    "    \n",
    "    #Lower bound should have tail probability below it\n",
    "    lower_bound = normal_upper_bound(tail_probability,mu,sigma)\n",
    "    \n",
    "    return lower_bound, upper_bound\n",
    "    \n",
    "\n"
   ]
  },
  {
   "cell_type": "code",
   "execution_count": 51,
   "metadata": {},
   "outputs": [
    {
     "data": {
      "text/plain": [
       "(500.0, 15.811388300841896)"
      ]
     },
     "execution_count": 51,
     "metadata": {},
     "output_type": "execute_result"
    }
   ],
   "source": [
    "# Flipping a coin 1000 times. Let's suppose that the coin is fair and have probability = 0.5\n",
    "\n",
    "mu_0,sigma_0 = normal_approximation_to_binomial(1000,0.5)\n",
    "mu_0,sigma_0"
   ]
  },
  {
   "cell_type": "code",
   "execution_count": 52,
   "metadata": {},
   "outputs": [
    {
     "data": {
      "text/plain": [
       "(469.01026640487555, 530.9897335951244)"
      ]
     },
     "execution_count": 52,
     "metadata": {},
     "output_type": "execute_result"
    }
   ],
   "source": [
    "# Make a decision about significance\n",
    "# Let's assume that the there are 5% chances of Type I error (False positives) in which we reject H_0 hypothesis\n",
    "\n",
    "# Consider the test that rejects H_0 if X falls outside the bounds\n",
    "lower_bound, upper_bound = normal_two_sided_bounds(0.95,mu_0,sigma_0)\n",
    "lower_bound, upper_bound"
   ]
  },
  {
   "cell_type": "code",
   "execution_count": 53,
   "metadata": {},
   "outputs": [
    {
     "data": {
      "text/plain": [
       "0.8865480012953671"
      ]
     },
     "execution_count": 53,
     "metadata": {},
     "output_type": "execute_result"
    }
   ],
   "source": [
    "# We are often interested in the power of a test\n",
    "# Prob of not making a Type II error (False negatives), in  which we fail to reject H_0 even though it's false\n",
    "\n",
    "#95% bounds based on assumption p is 0.5\n",
    "lo, hi = normal_two_sided_bounds(0.95,mu_0,sigma_0)\n",
    "\n",
    "#actual mu and sigma based on p is 0.55\n",
    "mu_1, sigma_1 = normal_approximation_to_binomial(1000,0.55)\n",
    "\n",
    "# a Type II error means we fail to reject null hypothesis\n",
    "# which will happen when X is still in our original interval\n",
    "type_2_probability = normal_probability_between(lo,hi,mu_1,sigma_1)\n",
    "\n",
    "power = 1-type_2_probability\n",
    "power"
   ]
  },
  {
   "cell_type": "code",
   "execution_count": 54,
   "metadata": {},
   "outputs": [
    {
     "data": {
      "text/plain": [
       "0.9363794803307173"
      ]
     },
     "execution_count": 54,
     "metadata": {},
     "output_type": "execute_result"
    }
   ],
   "source": [
    "# Imagine if coin is not fair and X (N of heads) is much larger than 500 but not X <=500\n",
    "# 5% significance test using normal_probability_below to find the cut_off belowwhich 95% of the probability lies\n",
    "\n",
    "hi = normal_upper_bound(0.95,mu_0,sigma_0)\n",
    "\n",
    "type_2_probability = normal_probability_below(hi,mu_1,sigma_1)\n",
    "\n",
    "power = 1-type_2_probability\n",
    "power"
   ]
  },
  {
   "cell_type": "code",
   "execution_count": 55,
   "metadata": {},
   "outputs": [
    {
     "data": {
      "text/plain": [
       "0.06207721579598835"
      ]
     },
     "execution_count": 55,
     "metadata": {},
     "output_type": "execute_result"
    }
   ],
   "source": [
    "######################################################################################\n",
    "####################################   Hypothesis testing   ##########################\n",
    "######################################################################################\n",
    "\n",
    "# p-values\n",
    "def two_sided_p_value(x:float, mu:float=0, sigma:float = 1)-> float:\n",
    "    # How likely are we to see a value at least as extreme as x (in either direction) if our values are from an N(mu,sigma)\n",
    "    \n",
    "    if x >= mu:\n",
    "        # If x is greater than the mean, so the tail is everything greater than x\n",
    "        return 2*normal_probability_above(x, mu, sigma)\n",
    "    else:\n",
    "        # If x is less than the mean, so the tail is everything less than x\n",
    "        return 2*normal_probability_below(x, mu, sigma)\n",
    "\n",
    "# If we see 530 heads    \n",
    "two_sided_p_value(529.5, mu_0, sigma_0) "
   ]
  },
  {
   "cell_type": "code",
   "execution_count": 58,
   "metadata": {},
   "outputs": [
    {
     "data": {
      "text/plain": [
       "0.046345287837786575"
      ]
     },
     "execution_count": 58,
     "metadata": {},
     "output_type": "execute_result"
    }
   ],
   "source": [
    "import random\n",
    "\n",
    "extreme_value_count = 0\n",
    "for _ in range(1000):\n",
    "    # Count number of heads in 1000 flips\n",
    "    num_heads = sum(1 if random.random() < 0.5 else 0   \n",
    "                    for _ in range(1000))  \n",
    "    # Count how often the # is extreme\n",
    "    if num_heads >= 530 or num_heads <= 470:            \n",
    "        extreme_value_count += 1                       \n",
    "\n",
    "# p-value was 0.062 => ~62 extreme values out of 1000\n",
    "assert 59 < extreme_value_count < 65, f\"{extreme_value_count}\"       \n",
    "\n",
    "two_sided_p_value(531.5, mu_0, sigma_0)"
   ]
  },
  {
   "cell_type": "code",
   "execution_count": 59,
   "metadata": {},
   "outputs": [
    {
     "name": "stdout",
     "output_type": "stream",
     "text": [
      "0.06062885772582072\n",
      "0.04686839508859242\n"
     ]
    }
   ],
   "source": [
    "tspv = two_sided_p_value(531.5, mu_0, sigma_0)\n",
    "assert 0.0463 < tspv < 0.0464\n",
    "\n",
    "upper_p_value = normal_probability_above\n",
    "lower_p_value = normal_probability_below\n",
    "\n",
    "print(upper_p_value(524.5, mu_0, sigma_0))\n",
    "\n",
    "print(upper_p_value(526.5, mu_0, sigma_0))"
   ]
  },
  {
   "cell_type": "code",
   "execution_count": 60,
   "metadata": {},
   "outputs": [
    {
     "name": "stdout",
     "output_type": "stream",
     "text": [
      "0.525 0.015791611697353755\n"
     ]
    },
    {
     "data": {
      "text/plain": [
       "(0.4940490278129096, 0.5559509721870904)"
      ]
     },
     "execution_count": 60,
     "metadata": {},
     "output_type": "execute_result"
    }
   ],
   "source": [
    "######################################################################################\n",
    "#################### Testing whether a coin is fair or not   #########################\n",
    "######################################################################################\n",
    "\n",
    "# Confidence intervals\n",
    "#Example 1\n",
    "p_hat = 525 / 1000\n",
    "mu = p_hat\n",
    "sigma = math.sqrt(p_hat * (1 - p_hat) / 1000)   \n",
    "print(mu,sigma)\n",
    "\n",
    "normal_two_sided_bounds(0.95, mu, sigma) \n",
    "\n",
    "#As 0.5 lies in the CI, hence the coin is fair\n"
   ]
  },
  {
   "cell_type": "code",
   "execution_count": 61,
   "metadata": {},
   "outputs": [
    {
     "name": "stdout",
     "output_type": "stream",
     "text": [
      "0.54 0.015760710643876435\n"
     ]
    },
    {
     "data": {
      "text/plain": [
       "(0.5091095927295919, 0.5708904072704082)"
      ]
     },
     "execution_count": 61,
     "metadata": {},
     "output_type": "execute_result"
    }
   ],
   "source": [
    "#Example 2\n",
    "p_hat = 540 / 1000\n",
    "mu = p_hat\n",
    "sigma = math.sqrt(p_hat * (1 - p_hat) / 1000) \n",
    "print(mu,sigma)\n",
    "\n",
    "normal_two_sided_bounds(0.95, mu, sigma)\n",
    "#As 0.5 doesnot lie in the CI, hence the coin is unfair"
   ]
  },
  {
   "cell_type": "code",
   "execution_count": 62,
   "metadata": {},
   "outputs": [],
   "source": [
    "from typing import List\n",
    "\n",
    "def run_experiment() -> List[bool]:\n",
    "    # Flips a fair coin 1000 times, True = heads, False = tails\n",
    "    return [random.random() < 0.5 for _ in range(1000)]\n",
    "\n",
    "def reject_fairness(experiment: List[bool]) -> bool:\n",
    "    \"\"\"Using the 5% significance levels\"\"\"\n",
    "    num_heads = len([flip for flip in experiment if flip])\n",
    "    return num_heads < 469 or num_heads > 531\n",
    "\n",
    "random.seed(0)\n",
    "experiments = [run_experiment() for _ in range(1000)]\n",
    "num_rejections = len([experiment\n",
    "                      for experiment in experiments\n",
    "                      if reject_fairness(experiment)])\n",
    "\n",
    "assert num_rejections == 46"
   ]
  },
  {
   "cell_type": "code",
   "execution_count": 64,
   "metadata": {},
   "outputs": [
    {
     "data": {
      "text/plain": [
       "-1.1403464899034472"
      ]
     },
     "execution_count": 64,
     "metadata": {},
     "output_type": "execute_result"
    }
   ],
   "source": [
    "# n_A, n_B represents number of times an add got clicked out of N_A and N_B people respectively.\n",
    "# where A & B are the two differentmodes of advertisement of a same ad.\n",
    "# Let's see if there is a significant difference between the advertisement by A & B  \n",
    "\n",
    "def estimated_parameters(N: int, n: int) -> Tuple[float, float]:\n",
    "    p = n / N\n",
    "    sigma = math.sqrt(p * (1 - p) / N)\n",
    "    return p, sigma\n",
    "\n",
    "def a_b_test_statistic(N_A: int, n_A: int, N_B: int, n_B: int) -> float:\n",
    "    p_A, sigma_A = estimated_parameters(N_A, n_A)\n",
    "    p_B, sigma_B = estimated_parameters(N_B, n_B)\n",
    "    return (p_B - p_A) / math.sqrt(sigma_A ** 2 + sigma_B ** 2)\n",
    "\n",
    "\n",
    "z = a_b_test_statistic(1000, 200, 1000, 180)\n",
    "z"
   ]
  },
  {
   "cell_type": "code",
   "execution_count": 65,
   "metadata": {},
   "outputs": [
    {
     "data": {
      "text/plain": [
       "0.254141976542236"
      ]
     },
     "execution_count": 65,
     "metadata": {},
     "output_type": "execute_result"
    }
   ],
   "source": [
    "# There is no significant difference if p_val>0.05\n",
    "p_val = two_sided_p_value(z) \n",
    "p_val"
   ]
  },
  {
   "cell_type": "code",
   "execution_count": 66,
   "metadata": {},
   "outputs": [
    {
     "data": {
      "text/plain": [
       "-2.948839123097944"
      ]
     },
     "execution_count": 66,
     "metadata": {},
     "output_type": "execute_result"
    }
   ],
   "source": [
    "# Try with different n_B\n",
    "z = a_b_test_statistic(1000, 200, 1000, 150)\n",
    "z"
   ]
  },
  {
   "cell_type": "code",
   "execution_count": 67,
   "metadata": {},
   "outputs": [
    {
     "data": {
      "text/plain": [
       "0.003189699706216853"
      ]
     },
     "execution_count": 67,
     "metadata": {},
     "output_type": "execute_result"
    }
   ],
   "source": [
    "# Significant difference if p_val<0.05\n",
    "p_val = two_sided_p_value(z) \n",
    "p_val"
   ]
  },
  {
   "cell_type": "code",
   "execution_count": 68,
   "metadata": {},
   "outputs": [],
   "source": [
    "def B(alpha: float, beta: float) -> float:\n",
    "    \"\"\"A normalizing constant so that the total probability is 1\"\"\"\n",
    "    return math.gamma(alpha) * math.gamma(beta) / math.gamma(alpha + beta)\n",
    "\n",
    "def beta_pdf(x: float, alpha: float, beta: float) -> float:\n",
    "    if x <= 0 or x >= 1:          # no weight outside of [0, 1]\n",
    "        return 0\n",
    "    return x ** (alpha - 1) * (1 - x) ** (beta - 1) / B(alpha, beta)"
   ]
  }
 ],
 "metadata": {
  "kernelspec": {
   "display_name": "Python 3",
   "language": "python",
   "name": "python3"
  },
  "language_info": {
   "codemirror_mode": {
    "name": "ipython",
    "version": 3
   },
   "file_extension": ".py",
   "mimetype": "text/x-python",
   "name": "python",
   "nbconvert_exporter": "python",
   "pygments_lexer": "ipython3",
   "version": "3.7.0"
  }
 },
 "nbformat": 4,
 "nbformat_minor": 2
}
