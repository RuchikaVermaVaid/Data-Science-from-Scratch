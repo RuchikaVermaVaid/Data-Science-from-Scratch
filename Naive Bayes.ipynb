{
 "cells": [
  {
   "cell_type": "code",
   "execution_count": 1,
   "metadata": {},
   "outputs": [
    {
     "data": {
      "text/plain": [
       "{'is', 'of', 'science', 'technology', 'the', 'today', 'tomorrow'}"
      ]
     },
     "execution_count": 1,
     "metadata": {},
     "output_type": "execute_result"
    }
   ],
   "source": [
    "# Split text into distinct words\n",
    "\n",
    "from typing import Set\n",
    "import re\n",
    "\n",
    "def tokenize(text: str) -> Set[str]:\n",
    "    text = text.lower()  # Convert to lowercase\n",
    "    all_words = re.findall(\"[a-z0-9']+\",text) # re.findall is used to extract words consisting of letters, numbers and apostrophes\n",
    "    return set(all_words) #Remove duplicates\n",
    "\n",
    "tokenize(\"The science of today is the technology of tomorrow\")\n",
    "    "
   ]
  },
  {
   "cell_type": "code",
   "execution_count": 2,
   "metadata": {},
   "outputs": [],
   "source": [
    "# Define type of our training data\n",
    "\n",
    "from typing import NamedTuple\n",
    "    \n",
    "class Message(NamedTuple):\n",
    "    text: str\n",
    "    is_spam : bool"
   ]
  },
  {
   "cell_type": "code",
   "execution_count": 3,
   "metadata": {},
   "outputs": [],
   "source": [
    "# Define all functions in a class named as NaiveBayesClassifier\n",
    "# Refer nonspam emails as ham emails\n",
    "\n",
    "from typing import List, Tuple, Dict, Iterable\n",
    "import math\n",
    "from collections import defaultdict\n",
    "\n",
    "class NaiveBayesClassifier:\n",
    "\n",
    "    def __init__(self, k: float = 0.5) -> None:\n",
    "        self.k = k # smoothing factor\n",
    "        self.tokens: Set[str] = set()\n",
    "        self.token_spam_counts: Dict[str, int] = defaultdict(int)\n",
    "        self.token_ham_counts: Dict[str, int] = defaultdict(int)\n",
    "        self.spam_messages = self.ham_messages = 0\n",
    " \n",
    "      \n",
    "    def train(self, messages: Iterable[Message]) -> None:\n",
    "        for message in messages:\n",
    "            #Increment message counts\n",
    "            if message.is_spam:\n",
    "                 self.spam_messages += 1\n",
    "            else:\n",
    "                 self.ham_messages += 1\n",
    "                    \n",
    "            #Increment word counts\n",
    "            for token in tokenize(message.text):\n",
    "                self.tokens.add(token)\n",
    "                if message.is_spam:\n",
    "                    self.token_spam_counts[token] += 1\n",
    "                else:\n",
    "                    self.token_ham_counts[token] += 1  \n",
    "    \n",
    "                    \n",
    "    def _probabilties (self, token: str) -> Tuple[float, float]:\n",
    "        \"\"\" returns P(token/spam) and P(token/ham) \"\"\"\n",
    "        spam = self.token_spam_counts[token]\n",
    "        ham = self.token_ham_counts[token]\n",
    "        \n",
    "        p_token_spam = (spam + self.k)/ (self.spam_messages + 2*self.k)\n",
    "        p_token_ham = (ham + self.k)/ (self.ham_messages + 2*self.k)\n",
    "        \n",
    "        return p_token_spam, p_token_ham    \n",
    "\n",
    "\n",
    "    \n",
    "    \"\"\" Find prob (spam/token)\"\"\"\n",
    "    # Use exp(log(pi*p2*p3)) instead of using p1*p2*p3\n",
    "    def predict(self, text:str) -> float:\n",
    "        text_tokens = tokenize(text)\n",
    "        log_prob_if_spam = log_prob_if_ham = 0.0\n",
    "        \n",
    "        #Iterate through each word of our vocabulary\n",
    "        for token in self.tokens:\n",
    "            prob_if_spam, prob_if_ham = self._probabilties(token)\n",
    "            \n",
    "            # If *token* appears in the message,\n",
    "            # add the log probability of seeing it            \n",
    "            if token in text_tokens:\n",
    "                log_prob_if_spam += math.log(prob_if_spam)\n",
    "                log_prob_if_ham += math.log(prob_if_ham)\n",
    "                \n",
    "            # Otherwise add the log probability of not seeing it\n",
    "            # which is log(1-probability of seeing it)            \n",
    "            else:\n",
    "                log_prob_if_spam += math.log(1-prob_if_spam)\n",
    "                log_prob_if_ham += math.log(1-prob_if_ham)\n",
    "                \n",
    "        prob_if_spam = math.exp(log_prob_if_spam)\n",
    "        prob_if_ham = math.exp(log_prob_if_ham)\n",
    "        return prob_if_spam/(prob_if_spam+prob_if_ham) #prob (spam/token)    "
   ]
  },
  {
   "cell_type": "code",
   "execution_count": 4,
   "metadata": {},
   "outputs": [
    {
     "name": "stdout",
     "output_type": "stream",
     "text": [
      "{'ham', 'spam', 'rules', 'hello'}\n",
      "1\n",
      "2\n",
      "defaultdict(<class 'int'>, {'rules': 1, 'spam': 1})\n",
      "defaultdict(<class 'int'>, {'ham': 2, 'rules': 1, 'hello': 1})\n"
     ]
    }
   ],
   "source": [
    "# Test the model\n",
    "Messages = [Message(\"spam rules\", is_spam = True),\n",
    "            Message(\"ham rules\", is_spam = False),\n",
    "            Message(\"hello ham\", is_spam = False)]\n",
    "\n",
    "model = NaiveBayesClassifier(k=0.5)\n",
    "model.train(Messages)\n",
    "\n",
    "assert model.tokens  == {\"spam\",\"ham\",\"rules\",\"hello\"}\n",
    "assert model.spam_messages == 1\n",
    "assert model.ham_messages == 2\n",
    "assert model.token_spam_counts == {\"spam\": 1, \"rules\": 1}\n",
    "assert model.token_ham_counts == {\"ham\": 2, \"rules\": 1, \"hello\": 1}\n",
    "\n",
    "print(model.tokens)\n",
    "print(model.spam_messages)\n",
    "print(model.ham_messages)\n",
    "print(model.token_spam_counts)\n",
    "print(model.token_ham_counts)"
   ]
  },
  {
   "cell_type": "code",
   "execution_count": 5,
   "metadata": {},
   "outputs": [],
   "source": [
    "# Download real data\n",
    "from io import BytesIO #To treat bytes as a file\n",
    "import requests #To download the files\n",
    "import tarfile #For tar.bz files\n",
    "\n",
    "BASE_URL = \"https://spamassassin.apache.org/old/publiccorpus\"\n",
    "\n",
    "FILES = [\"20021010_easy_ham.tar.bz2\",\n",
    "        \"20021010_hard_ham.tar.bz2\",\n",
    "        \"20021010_spam.tar.bz2\"]\n",
    "\n",
    "OUTPUT_DIR = \"spam_data\"\n",
    "\n",
    "for filename in FILES:\n",
    "    # Use requests to get the file contents at each URL\n",
    "    content = requests.get(f\"{BASE_URL}/{filename}\").content\n",
    "    \n",
    "    # Wrap the in-memory bytes so we can use them as a file\n",
    "    fin = BytesIO(content)\n",
    "    \n",
    "    # And extract all the files to the output directory\n",
    "    with tarfile.open(fileobj= fin, mode = 'r:bz2') as tf:\n",
    "        tf.extractall(OUTPUT_DIR)"
   ]
  },
  {
   "cell_type": "code",
   "execution_count": 6,
   "metadata": {},
   "outputs": [],
   "source": [
    "# Arrange data in NamedTuple\n",
    "import glob, re\n",
    "\n",
    "path = \"spam_data/*/*\"\n",
    "data: List[Message] = []\n",
    "    \n",
    "# glob.glob returns every filename that matches the wildcarded path\n",
    "for filename in glob.glob(path):\n",
    "    is_spam = \"ham\" not in filename\n",
    "    \n",
    "    # There are some garbage characters in the emails; the errors = 'ignore'\n",
    "    # skips them instead of raising an exception\n",
    "    with open(filename, errors = 'ignore') as email_file:\n",
    "        for line in email_file:\n",
    "            if line.startswith(\"Subject:\"):\n",
    "                subject = line.lstrip(\"Subject: \")\n",
    "                data.append(Message(subject, is_spam))\n",
    "                break # done with this file"
   ]
  },
  {
   "cell_type": "code",
   "execution_count": 8,
   "metadata": {},
   "outputs": [],
   "source": [
    "# Split data into training and testing set\n",
    "import random\n",
    "from machine_learning import split_data\n",
    "\n",
    "random.seed(0)\n",
    "train_messages, test_messages = split_data(data, 0.75)\n"
   ]
  },
  {
   "cell_type": "code",
   "execution_count": 9,
   "metadata": {},
   "outputs": [
    {
     "name": "stdout",
     "output_type": "stream",
     "text": [
      "Counter({(False, False): 670, (True, True): 86, (True, False): 40, (False, True): 29})\n"
     ]
    }
   ],
   "source": [
    "# Train the model with training set\n",
    "model = NaiveBayesClassifier()\n",
    "model.train(train_messages)\n",
    "\n",
    "from collections import Counter\n",
    "\n",
    "predictions = [(message, model.predict(message.text))\n",
    "              for message in test_messages]\n",
    "\n",
    "confusion_matrix = Counter((message.is_spam, spam_probability > 0.5)\n",
    "                          for message, spam_probability in predictions)\n",
    "print(confusion_matrix)"
   ]
  },
  {
   "cell_type": "code",
   "execution_count": 10,
   "metadata": {},
   "outputs": [
    {
     "name": "stdout",
     "output_type": "stream",
     "text": [
      "spammiest_words ['zzzz', 'attn', '95', 'money', 'clearance', 'per', 'sale', 'rates', 'systemworks', 'adv']\n",
      "hammiest_words ['spambayes', 'users', 'razor', 'zzzzteana', 'sadev', 'apt', 'perl', 'ouch', 'spamassassin', 'selling']\n"
     ]
    }
   ],
   "source": [
    "#  Inspect model to find words which are most and least indicative of spam\n",
    "\n",
    "\n",
    "def p_spam_given_token(token: str, model: NaiveBayesClassifier) -> float:\n",
    "    prob_if_spam, prob_if_ham = model._probabilties(token)\n",
    "    return prob_if_spam/ (prob_if_spam + prob_if_ham)\n",
    "\n",
    "words = sorted(model.tokens, key = lambda t: p_spam_given_token(t,model))\n",
    "print(\"spammiest_words\", words[-10:])\n",
    "print(\"hammiest_words\", words[:10])"
   ]
  }
 ],
 "metadata": {
  "kernelspec": {
   "display_name": "Python 3",
   "language": "python",
   "name": "python3"
  },
  "language_info": {
   "codemirror_mode": {
    "name": "ipython",
    "version": 3
   },
   "file_extension": ".py",
   "mimetype": "text/x-python",
   "name": "python",
   "nbconvert_exporter": "python",
   "pygments_lexer": "ipython3",
   "version": "3.7.0"
  }
 },
 "nbformat": 4,
 "nbformat_minor": 2
}
